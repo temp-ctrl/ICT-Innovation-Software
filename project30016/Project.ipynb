{
 "cells": [
  {
   "cell_type": "code",
   "execution_count": 20,
   "id": "640f3657-d2d0-40f7-b7a3-b68bbb596900",
   "metadata": {},
   "outputs": [],
   "source": [
    "import pandas as pd\n",
    "import plotly.express as px"
   ]
  },
  {
   "cell_type": "code",
   "execution_count": 21,
   "id": "36cbcf00-e509-454d-b35a-62ee96e3b982",
   "metadata": {},
   "outputs": [
    {
     "data": {
      "text/html": [
       "<div>\n",
       "<style scoped>\n",
       "    .dataframe tbody tr th:only-of-type {\n",
       "        vertical-align: middle;\n",
       "    }\n",
       "\n",
       "    .dataframe tbody tr th {\n",
       "        vertical-align: top;\n",
       "    }\n",
       "\n",
       "    .dataframe thead th {\n",
       "        text-align: right;\n",
       "    }\n",
       "</style>\n",
       "<table border=\"1\" class=\"dataframe\">\n",
       "  <thead>\n",
       "    <tr style=\"text-align: right;\">\n",
       "      <th></th>\n",
       "      <th>Unnamed: 0</th>\n",
       "      <th>ID</th>\n",
       "      <th>name</th>\n",
       "      <th>tactics</th>\n",
       "    </tr>\n",
       "  </thead>\n",
       "  <tbody>\n",
       "    <tr>\n",
       "      <th>0</th>\n",
       "      <td>0</td>\n",
       "      <td>T1548</td>\n",
       "      <td>Abuse Elevation Control Mechanism</td>\n",
       "      <td>Defense Evasion</td>\n",
       "    </tr>\n",
       "    <tr>\n",
       "      <th>1</th>\n",
       "      <td>0</td>\n",
       "      <td>T1548</td>\n",
       "      <td>Abuse Elevation Control Mechanism</td>\n",
       "      <td>Privilege Escalation</td>\n",
       "    </tr>\n",
       "    <tr>\n",
       "      <th>2</th>\n",
       "      <td>1</td>\n",
       "      <td>T1548.002</td>\n",
       "      <td>Abuse Elevation Control Mechanism: Bypass User...</td>\n",
       "      <td>Defense Evasion</td>\n",
       "    </tr>\n",
       "    <tr>\n",
       "      <th>3</th>\n",
       "      <td>1</td>\n",
       "      <td>T1548.002</td>\n",
       "      <td>Abuse Elevation Control Mechanism: Bypass User...</td>\n",
       "      <td>Privilege Escalation</td>\n",
       "    </tr>\n",
       "    <tr>\n",
       "      <th>4</th>\n",
       "      <td>2</td>\n",
       "      <td>T1548.004</td>\n",
       "      <td>Abuse Elevation Control Mechanism: Elevated Ex...</td>\n",
       "      <td>Defense Evasion</td>\n",
       "    </tr>\n",
       "  </tbody>\n",
       "</table>\n",
       "</div>"
      ],
      "text/plain": [
       "   Unnamed: 0         ID                                               name  \\\n",
       "0           0      T1548                  Abuse Elevation Control Mechanism   \n",
       "1           0      T1548                  Abuse Elevation Control Mechanism   \n",
       "2           1  T1548.002  Abuse Elevation Control Mechanism: Bypass User...   \n",
       "3           1  T1548.002  Abuse Elevation Control Mechanism: Bypass User...   \n",
       "4           2  T1548.004  Abuse Elevation Control Mechanism: Elevated Ex...   \n",
       "\n",
       "                tactics  \n",
       "0       Defense Evasion  \n",
       "1  Privilege Escalation  \n",
       "2       Defense Evasion  \n",
       "3  Privilege Escalation  \n",
       "4       Defense Evasion  "
      ]
     },
     "execution_count": 21,
     "metadata": {},
     "output_type": "execute_result"
    }
   ],
   "source": [
    "import pandas as pd\n",
    "\n",
    "# Load the Techniques and Tactics CSV file using the correct method\n",
    "file_path = r\"data/Techniques_and_Tactics.csv\"\n",
    "techniques_tactics_df = pd.read_csv(file_path)\n",
    "\n",
    "# Preview the data\n",
    "techniques_tactics_df.head()"
   ]
  },
  {
   "cell_type": "code",
   "execution_count": 22,
   "id": "bc7c5d3a-8daf-478d-b4df-ed792fef4e21",
   "metadata": {},
   "outputs": [
    {
     "data": {
      "application/vnd.plotly.v1+json": {
       "config": {
        "plotlyServerURL": "https://plot.ly"
       },
       "data": [
        {
         "alignmentgroup": "True",
         "hovertemplate": "Tactics=%{x}<br>Technique Count=%{y}<extra></extra>",
         "legendgroup": "",
         "marker": {
          "color": "#636efa",
          "pattern": {
           "shape": ""
          }
         },
         "name": "",
         "offsetgroup": "",
         "orientation": "v",
         "showlegend": false,
         "textposition": "auto",
         "type": "bar",
         "x": [
          "Collection",
          "Command and Control",
          "Credential Access",
          "Defense Evasion",
          "Discovery",
          "Execution",
          "Exfiltration",
          "Impact",
          "Initial Access",
          "Lateral Movement",
          "Persistence",
          "Privilege Escalation",
          "Reconnaissance",
          "Resource Development"
         ],
         "xaxis": "x",
         "y": [
          37,
          41,
          65,
          198,
          46,
          37,
          19,
          27,
          21,
          23,
          118,
          107,
          44,
          47
         ],
         "yaxis": "y"
        }
       ],
       "layout": {
        "autosize": true,
        "barmode": "relative",
        "legend": {
         "tracegroupgap": 0
        },
        "template": {
         "data": {
          "bar": [
           {
            "error_x": {
             "color": "#2a3f5f"
            },
            "error_y": {
             "color": "#2a3f5f"
            },
            "marker": {
             "line": {
              "color": "#E5ECF6",
              "width": 0.5
             },
             "pattern": {
              "fillmode": "overlay",
              "size": 10,
              "solidity": 0.2
             }
            },
            "type": "bar"
           }
          ],
          "barpolar": [
           {
            "marker": {
             "line": {
              "color": "#E5ECF6",
              "width": 0.5
             },
             "pattern": {
              "fillmode": "overlay",
              "size": 10,
              "solidity": 0.2
             }
            },
            "type": "barpolar"
           }
          ],
          "carpet": [
           {
            "aaxis": {
             "endlinecolor": "#2a3f5f",
             "gridcolor": "white",
             "linecolor": "white",
             "minorgridcolor": "white",
             "startlinecolor": "#2a3f5f"
            },
            "baxis": {
             "endlinecolor": "#2a3f5f",
             "gridcolor": "white",
             "linecolor": "white",
             "minorgridcolor": "white",
             "startlinecolor": "#2a3f5f"
            },
            "type": "carpet"
           }
          ],
          "choropleth": [
           {
            "colorbar": {
             "outlinewidth": 0,
             "ticks": ""
            },
            "type": "choropleth"
           }
          ],
          "contour": [
           {
            "colorbar": {
             "outlinewidth": 0,
             "ticks": ""
            },
            "colorscale": [
             [
              0,
              "#0d0887"
             ],
             [
              0.1111111111111111,
              "#46039f"
             ],
             [
              0.2222222222222222,
              "#7201a8"
             ],
             [
              0.3333333333333333,
              "#9c179e"
             ],
             [
              0.4444444444444444,
              "#bd3786"
             ],
             [
              0.5555555555555556,
              "#d8576b"
             ],
             [
              0.6666666666666666,
              "#ed7953"
             ],
             [
              0.7777777777777778,
              "#fb9f3a"
             ],
             [
              0.8888888888888888,
              "#fdca26"
             ],
             [
              1,
              "#f0f921"
             ]
            ],
            "type": "contour"
           }
          ],
          "contourcarpet": [
           {
            "colorbar": {
             "outlinewidth": 0,
             "ticks": ""
            },
            "type": "contourcarpet"
           }
          ],
          "heatmap": [
           {
            "colorbar": {
             "outlinewidth": 0,
             "ticks": ""
            },
            "colorscale": [
             [
              0,
              "#0d0887"
             ],
             [
              0.1111111111111111,
              "#46039f"
             ],
             [
              0.2222222222222222,
              "#7201a8"
             ],
             [
              0.3333333333333333,
              "#9c179e"
             ],
             [
              0.4444444444444444,
              "#bd3786"
             ],
             [
              0.5555555555555556,
              "#d8576b"
             ],
             [
              0.6666666666666666,
              "#ed7953"
             ],
             [
              0.7777777777777778,
              "#fb9f3a"
             ],
             [
              0.8888888888888888,
              "#fdca26"
             ],
             [
              1,
              "#f0f921"
             ]
            ],
            "type": "heatmap"
           }
          ],
          "heatmapgl": [
           {
            "colorbar": {
             "outlinewidth": 0,
             "ticks": ""
            },
            "colorscale": [
             [
              0,
              "#0d0887"
             ],
             [
              0.1111111111111111,
              "#46039f"
             ],
             [
              0.2222222222222222,
              "#7201a8"
             ],
             [
              0.3333333333333333,
              "#9c179e"
             ],
             [
              0.4444444444444444,
              "#bd3786"
             ],
             [
              0.5555555555555556,
              "#d8576b"
             ],
             [
              0.6666666666666666,
              "#ed7953"
             ],
             [
              0.7777777777777778,
              "#fb9f3a"
             ],
             [
              0.8888888888888888,
              "#fdca26"
             ],
             [
              1,
              "#f0f921"
             ]
            ],
            "type": "heatmapgl"
           }
          ],
          "histogram": [
           {
            "marker": {
             "pattern": {
              "fillmode": "overlay",
              "size": 10,
              "solidity": 0.2
             }
            },
            "type": "histogram"
           }
          ],
          "histogram2d": [
           {
            "colorbar": {
             "outlinewidth": 0,
             "ticks": ""
            },
            "colorscale": [
             [
              0,
              "#0d0887"
             ],
             [
              0.1111111111111111,
              "#46039f"
             ],
             [
              0.2222222222222222,
              "#7201a8"
             ],
             [
              0.3333333333333333,
              "#9c179e"
             ],
             [
              0.4444444444444444,
              "#bd3786"
             ],
             [
              0.5555555555555556,
              "#d8576b"
             ],
             [
              0.6666666666666666,
              "#ed7953"
             ],
             [
              0.7777777777777778,
              "#fb9f3a"
             ],
             [
              0.8888888888888888,
              "#fdca26"
             ],
             [
              1,
              "#f0f921"
             ]
            ],
            "type": "histogram2d"
           }
          ],
          "histogram2dcontour": [
           {
            "colorbar": {
             "outlinewidth": 0,
             "ticks": ""
            },
            "colorscale": [
             [
              0,
              "#0d0887"
             ],
             [
              0.1111111111111111,
              "#46039f"
             ],
             [
              0.2222222222222222,
              "#7201a8"
             ],
             [
              0.3333333333333333,
              "#9c179e"
             ],
             [
              0.4444444444444444,
              "#bd3786"
             ],
             [
              0.5555555555555556,
              "#d8576b"
             ],
             [
              0.6666666666666666,
              "#ed7953"
             ],
             [
              0.7777777777777778,
              "#fb9f3a"
             ],
             [
              0.8888888888888888,
              "#fdca26"
             ],
             [
              1,
              "#f0f921"
             ]
            ],
            "type": "histogram2dcontour"
           }
          ],
          "mesh3d": [
           {
            "colorbar": {
             "outlinewidth": 0,
             "ticks": ""
            },
            "type": "mesh3d"
           }
          ],
          "parcoords": [
           {
            "line": {
             "colorbar": {
              "outlinewidth": 0,
              "ticks": ""
             }
            },
            "type": "parcoords"
           }
          ],
          "pie": [
           {
            "automargin": true,
            "type": "pie"
           }
          ],
          "scatter": [
           {
            "fillpattern": {
             "fillmode": "overlay",
             "size": 10,
             "solidity": 0.2
            },
            "type": "scatter"
           }
          ],
          "scatter3d": [
           {
            "line": {
             "colorbar": {
              "outlinewidth": 0,
              "ticks": ""
             }
            },
            "marker": {
             "colorbar": {
              "outlinewidth": 0,
              "ticks": ""
             }
            },
            "type": "scatter3d"
           }
          ],
          "scattercarpet": [
           {
            "marker": {
             "colorbar": {
              "outlinewidth": 0,
              "ticks": ""
             }
            },
            "type": "scattercarpet"
           }
          ],
          "scattergeo": [
           {
            "marker": {
             "colorbar": {
              "outlinewidth": 0,
              "ticks": ""
             }
            },
            "type": "scattergeo"
           }
          ],
          "scattergl": [
           {
            "marker": {
             "colorbar": {
              "outlinewidth": 0,
              "ticks": ""
             }
            },
            "type": "scattergl"
           }
          ],
          "scattermapbox": [
           {
            "marker": {
             "colorbar": {
              "outlinewidth": 0,
              "ticks": ""
             }
            },
            "type": "scattermapbox"
           }
          ],
          "scatterpolar": [
           {
            "marker": {
             "colorbar": {
              "outlinewidth": 0,
              "ticks": ""
             }
            },
            "type": "scatterpolar"
           }
          ],
          "scatterpolargl": [
           {
            "marker": {
             "colorbar": {
              "outlinewidth": 0,
              "ticks": ""
             }
            },
            "type": "scatterpolargl"
           }
          ],
          "scatterternary": [
           {
            "marker": {
             "colorbar": {
              "outlinewidth": 0,
              "ticks": ""
             }
            },
            "type": "scatterternary"
           }
          ],
          "surface": [
           {
            "colorbar": {
             "outlinewidth": 0,
             "ticks": ""
            },
            "colorscale": [
             [
              0,
              "#0d0887"
             ],
             [
              0.1111111111111111,
              "#46039f"
             ],
             [
              0.2222222222222222,
              "#7201a8"
             ],
             [
              0.3333333333333333,
              "#9c179e"
             ],
             [
              0.4444444444444444,
              "#bd3786"
             ],
             [
              0.5555555555555556,
              "#d8576b"
             ],
             [
              0.6666666666666666,
              "#ed7953"
             ],
             [
              0.7777777777777778,
              "#fb9f3a"
             ],
             [
              0.8888888888888888,
              "#fdca26"
             ],
             [
              1,
              "#f0f921"
             ]
            ],
            "type": "surface"
           }
          ],
          "table": [
           {
            "cells": {
             "fill": {
              "color": "#EBF0F8"
             },
             "line": {
              "color": "white"
             }
            },
            "header": {
             "fill": {
              "color": "#C8D4E3"
             },
             "line": {
              "color": "white"
             }
            },
            "type": "table"
           }
          ]
         },
         "layout": {
          "annotationdefaults": {
           "arrowcolor": "#2a3f5f",
           "arrowhead": 0,
           "arrowwidth": 1
          },
          "autotypenumbers": "strict",
          "coloraxis": {
           "colorbar": {
            "outlinewidth": 0,
            "ticks": ""
           }
          },
          "colorscale": {
           "diverging": [
            [
             0,
             "#8e0152"
            ],
            [
             0.1,
             "#c51b7d"
            ],
            [
             0.2,
             "#de77ae"
            ],
            [
             0.3,
             "#f1b6da"
            ],
            [
             0.4,
             "#fde0ef"
            ],
            [
             0.5,
             "#f7f7f7"
            ],
            [
             0.6,
             "#e6f5d0"
            ],
            [
             0.7,
             "#b8e186"
            ],
            [
             0.8,
             "#7fbc41"
            ],
            [
             0.9,
             "#4d9221"
            ],
            [
             1,
             "#276419"
            ]
           ],
           "sequential": [
            [
             0,
             "#0d0887"
            ],
            [
             0.1111111111111111,
             "#46039f"
            ],
            [
             0.2222222222222222,
             "#7201a8"
            ],
            [
             0.3333333333333333,
             "#9c179e"
            ],
            [
             0.4444444444444444,
             "#bd3786"
            ],
            [
             0.5555555555555556,
             "#d8576b"
            ],
            [
             0.6666666666666666,
             "#ed7953"
            ],
            [
             0.7777777777777778,
             "#fb9f3a"
            ],
            [
             0.8888888888888888,
             "#fdca26"
            ],
            [
             1,
             "#f0f921"
            ]
           ],
           "sequentialminus": [
            [
             0,
             "#0d0887"
            ],
            [
             0.1111111111111111,
             "#46039f"
            ],
            [
             0.2222222222222222,
             "#7201a8"
            ],
            [
             0.3333333333333333,
             "#9c179e"
            ],
            [
             0.4444444444444444,
             "#bd3786"
            ],
            [
             0.5555555555555556,
             "#d8576b"
            ],
            [
             0.6666666666666666,
             "#ed7953"
            ],
            [
             0.7777777777777778,
             "#fb9f3a"
            ],
            [
             0.8888888888888888,
             "#fdca26"
            ],
            [
             1,
             "#f0f921"
            ]
           ]
          },
          "colorway": [
           "#636efa",
           "#EF553B",
           "#00cc96",
           "#ab63fa",
           "#FFA15A",
           "#19d3f3",
           "#FF6692",
           "#B6E880",
           "#FF97FF",
           "#FECB52"
          ],
          "font": {
           "color": "#2a3f5f"
          },
          "geo": {
           "bgcolor": "white",
           "lakecolor": "white",
           "landcolor": "#E5ECF6",
           "showlakes": true,
           "showland": true,
           "subunitcolor": "white"
          },
          "hoverlabel": {
           "align": "left"
          },
          "hovermode": "closest",
          "mapbox": {
           "style": "light"
          },
          "paper_bgcolor": "white",
          "plot_bgcolor": "#E5ECF6",
          "polar": {
           "angularaxis": {
            "gridcolor": "white",
            "linecolor": "white",
            "ticks": ""
           },
           "bgcolor": "#E5ECF6",
           "radialaxis": {
            "gridcolor": "white",
            "linecolor": "white",
            "ticks": ""
           }
          },
          "scene": {
           "xaxis": {
            "backgroundcolor": "#E5ECF6",
            "gridcolor": "white",
            "gridwidth": 2,
            "linecolor": "white",
            "showbackground": true,
            "ticks": "",
            "zerolinecolor": "white"
           },
           "yaxis": {
            "backgroundcolor": "#E5ECF6",
            "gridcolor": "white",
            "gridwidth": 2,
            "linecolor": "white",
            "showbackground": true,
            "ticks": "",
            "zerolinecolor": "white"
           },
           "zaxis": {
            "backgroundcolor": "#E5ECF6",
            "gridcolor": "white",
            "gridwidth": 2,
            "linecolor": "white",
            "showbackground": true,
            "ticks": "",
            "zerolinecolor": "white"
           }
          },
          "shapedefaults": {
           "line": {
            "color": "#2a3f5f"
           }
          },
          "ternary": {
           "aaxis": {
            "gridcolor": "white",
            "linecolor": "white",
            "ticks": ""
           },
           "baxis": {
            "gridcolor": "white",
            "linecolor": "white",
            "ticks": ""
           },
           "bgcolor": "#E5ECF6",
           "caxis": {
            "gridcolor": "white",
            "linecolor": "white",
            "ticks": ""
           }
          },
          "title": {
           "x": 0.05
          },
          "xaxis": {
           "automargin": true,
           "gridcolor": "white",
           "linecolor": "white",
           "ticks": "",
           "title": {
            "standoff": 15
           },
           "zerolinecolor": "white",
           "zerolinewidth": 2
          },
          "yaxis": {
           "automargin": true,
           "gridcolor": "white",
           "linecolor": "white",
           "ticks": "",
           "title": {
            "standoff": 15
           },
           "zerolinecolor": "white",
           "zerolinewidth": 2
          }
         }
        },
        "title": {
         "text": "Techniques used per Tactic"
        },
        "xaxis": {
         "anchor": "y",
         "autorange": true,
         "domain": [
          0,
          1
         ],
         "range": [
          -0.5,
          13.5
         ],
         "title": {
          "text": "Tactics"
         },
         "type": "category"
        },
        "yaxis": {
         "anchor": "x",
         "autorange": true,
         "domain": [
          0,
          1
         ],
         "range": [
          0,
          208.42105263157896
         ],
         "title": {
          "text": "Technique Count"
         },
         "type": "linear"
        }
       }
      },
      "image/png": "[encoded data removed]",
      "text/html": [
       "<div>                            <div id=\"196163ee-6223-4417-8465-36b75c22788e\" class=\"plotly-graph-div\" style=\"height:525px; width:100%;\"></div>            <script type=\"text/javascript\">                require([\"plotly\"], function(Plotly) {                    window.PLOTLYENV=window.PLOTLYENV || {};                                    if (document.getElementById(\"196163ee-6223-4417-8465-36b75c22788e\")) {                    Plotly.newPlot(                        \"196163ee-6223-4417-8465-36b75c22788e\",                        [{\"alignmentgroup\":\"True\",\"hovertemplate\":\"Tactics=%{x}\\u003cbr\\u003eTechnique Count=%{y}\\u003cextra\\u003e\\u003c\\u002fextra\\u003e\",\"legendgroup\":\"\",\"marker\":{\"color\":\"#636efa\",\"pattern\":{\"shape\":\"\"}},\"name\":\"\",\"offsetgroup\":\"\",\"orientation\":\"v\",\"showlegend\":false,\"textposition\":\"auto\",\"x\":[\"Collection\",\"Command and Control\",\"Credential Access\",\"Defense Evasion\",\"Discovery\",\"Execution\",\"Exfiltration\",\"Impact\",\"Initial Access\",\"Lateral Movement\",\"Persistence\",\"Privilege Escalation\",\"Reconnaissance\",\"Resource Development\"],\"xaxis\":\"x\",\"y\":[37,41,65,198,46,37,19,27,21,23,118,107,44,47],\"yaxis\":\"y\",\"type\":\"bar\"}],                        {\"template\":{\"data\":{\"histogram2dcontour\":[{\"type\":\"histogram2dcontour\",\"colorbar\":{\"outlinewidth\":0,\"ticks\":\"\"},\"colorscale\":[[0.0,\"#0d0887\"],[0.1111111111111111,\"#46039f\"],[0.2222222222222222,\"#7201a8\"],[0.3333333333333333,\"#9c179e\"],[0.4444444444444444,\"#bd3786\"],[0.5555555555555556,\"#d8576b\"],[0.6666666666666666,\"#ed7953\"],[0.7777777777777778,\"#fb9f3a\"],[0.8888888888888888,\"#fdca26\"],[1.0,\"#f0f921\"]]}],\"choropleth\":[{\"type\":\"choropleth\",\"colorbar\":{\"outlinewidth\":0,\"ticks\":\"\"}}],\"histogram2d\":[{\"type\":\"histogram2d\",\"colorbar\":{\"outlinewidth\":0,\"ticks\":\"\"},\"colorscale\":[[0.0,\"#0d0887\"],[0.1111111111111111,\"#46039f\"],[0.2222222222222222,\"#7201a8\"],[0.3333333333333333,\"#9c179e\"],[0.4444444444444444,\"#bd3786\"],[0.5555555555555556,\"#d8576b\"],[0.6666666666666666,\"#ed7953\"],[0.7777777777777778,\"#fb9f3a\"],[0.8888888888888888,\"#fdca26\"],[1.0,\"#f0f921\"]]}],\"heatmap\":[{\"type\":\"heatmap\",\"colorbar\":{\"outlinewidth\":0,\"ticks\":\"\"},\"colorscale\":[[0.0,\"#0d0887\"],[0.1111111111111111,\"#46039f\"],[0.2222222222222222,\"#7201a8\"],[0.3333333333333333,\"#9c179e\"],[0.4444444444444444,\"#bd3786\"],[0.5555555555555556,\"#d8576b\"],[0.6666666666666666,\"#ed7953\"],[0.7777777777777778,\"#fb9f3a\"],[0.8888888888888888,\"#fdca26\"],[1.0,\"#f0f921\"]]}],\"heatmapgl\":[{\"type\":\"heatmapgl\",\"colorbar\":{\"outlinewidth\":0,\"ticks\":\"\"},\"colorscale\":[[0.0,\"#0d0887\"],[0.1111111111111111,\"#46039f\"],[0.2222222222222222,\"#7201a8\"],[0.3333333333333333,\"#9c179e\"],[0.4444444444444444,\"#bd3786\"],[0.5555555555555556,\"#d8576b\"],[0.6666666666666666,\"#ed7953\"],[0.7777777777777778,\"#fb9f3a\"],[0.8888888888888888,\"#fdca26\"],[1.0,\"#f0f921\"]]}],\"contourcarpet\":[{\"type\":\"contourcarpet\",\"colorbar\":{\"outlinewidth\":0,\"ticks\":\"\"}}],\"contour\":[{\"type\":\"contour\",\"colorbar\":{\"outlinewidth\":0,\"ticks\":\"\"},\"colorscale\":[[0.0,\"#0d0887\"],[0.1111111111111111,\"#46039f\"],[0.2222222222222222,\"#7201a8\"],[0.3333333333333333,\"#9c179e\"],[0.4444444444444444,\"#bd3786\"],[0.5555555555555556,\"#d8576b\"],[0.6666666666666666,\"#ed7953\"],[0.7777777777777778,\"#fb9f3a\"],[0.8888888888888888,\"#fdca26\"],[1.0,\"#f0f921\"]]}],\"surface\":[{\"type\":\"surface\",\"colorbar\":{\"outlinewidth\":0,\"ticks\":\"\"},\"colorscale\":[[0.0,\"#0d0887\"],[0.1111111111111111,\"#46039f\"],[0.2222222222222222,\"#7201a8\"],[0.3333333333333333,\"#9c179e\"],[0.4444444444444444,\"#bd3786\"],[0.5555555555555556,\"#d8576b\"],[0.6666666666666666,\"#ed7953\"],[0.7777777777777778,\"#fb9f3a\"],[0.8888888888888888,\"#fdca26\"],[1.0,\"#f0f921\"]]}],\"mesh3d\":[{\"type\":\"mesh3d\",\"colorbar\":{\"outlinewidth\":0,\"ticks\":\"\"}}],\"scatter\":[{\"fillpattern\":{\"fillmode\":\"overlay\",\"size\":10,\"solidity\":0.2},\"type\":\"scatter\"}],\"parcoords\":[{\"type\":\"parcoords\",\"line\":{\"colorbar\":{\"outlinewidth\":0,\"ticks\":\"\"}}}],\"scatterpolargl\":[{\"type\":\"scatterpolargl\",\"marker\":{\"colorbar\":{\"outlinewidth\":0,\"ticks\":\"\"}}}],\"bar\":[{\"error_x\":{\"color\":\"#2a3f5f\"},\"error_y\":{\"color\":\"#2a3f5f\"},\"marker\":{\"line\":{\"color\":\"#E5ECF6\",\"width\":0.5},\"pattern\":{\"fillmode\":\"overlay\",\"size\":10,\"solidity\":0.2}},\"type\":\"bar\"}],\"scattergeo\":[{\"type\":\"scattergeo\",\"marker\":{\"colorbar\":{\"outlinewidth\":0,\"ticks\":\"\"}}}],\"scatterpolar\":[{\"type\":\"scatterpolar\",\"marker\":{\"colorbar\":{\"outlinewidth\":0,\"ticks\":\"\"}}}],\"histogram\":[{\"marker\":{\"pattern\":{\"fillmode\":\"overlay\",\"size\":10,\"solidity\":0.2}},\"type\":\"histogram\"}],\"scattergl\":[{\"type\":\"scattergl\",\"marker\":{\"colorbar\":{\"outlinewidth\":0,\"ticks\":\"\"}}}],\"scatter3d\":[{\"type\":\"scatter3d\",\"line\":{\"colorbar\":{\"outlinewidth\":0,\"ticks\":\"\"}},\"marker\":{\"colorbar\":{\"outlinewidth\":0,\"ticks\":\"\"}}}],\"scattermapbox\":[{\"type\":\"scattermapbox\",\"marker\":{\"colorbar\":{\"outlinewidth\":0,\"ticks\":\"\"}}}],\"scatterternary\":[{\"type\":\"scatterternary\",\"marker\":{\"colorbar\":{\"outlinewidth\":0,\"ticks\":\"\"}}}],\"scattercarpet\":[{\"type\":\"scattercarpet\",\"marker\":{\"colorbar\":{\"outlinewidth\":0,\"ticks\":\"\"}}}],\"carpet\":[{\"aaxis\":{\"endlinecolor\":\"#2a3f5f\",\"gridcolor\":\"white\",\"linecolor\":\"white\",\"minorgridcolor\":\"white\",\"startlinecolor\":\"#2a3f5f\"},\"baxis\":{\"endlinecolor\":\"#2a3f5f\",\"gridcolor\":\"white\",\"linecolor\":\"white\",\"minorgridcolor\":\"white\",\"startlinecolor\":\"#2a3f5f\"},\"type\":\"carpet\"}],\"table\":[{\"cells\":{\"fill\":{\"color\":\"#EBF0F8\"},\"line\":{\"color\":\"white\"}},\"header\":{\"fill\":{\"color\":\"#C8D4E3\"},\"line\":{\"color\":\"white\"}},\"type\":\"table\"}],\"barpolar\":[{\"marker\":{\"line\":{\"color\":\"#E5ECF6\",\"width\":0.5},\"pattern\":{\"fillmode\":\"overlay\",\"size\":10,\"solidity\":0.2}},\"type\":\"barpolar\"}],\"pie\":[{\"automargin\":true,\"type\":\"pie\"}]},\"layout\":{\"autotypenumbers\":\"strict\",\"colorway\":[\"#636efa\",\"#EF553B\",\"#00cc96\",\"#ab63fa\",\"#FFA15A\",\"#19d3f3\",\"#FF6692\",\"#B6E880\",\"#FF97FF\",\"#FECB52\"],\"font\":{\"color\":\"#2a3f5f\"},\"hovermode\":\"closest\",\"hoverlabel\":{\"align\":\"left\"},\"paper_bgcolor\":\"white\",\"plot_bgcolor\":\"#E5ECF6\",\"polar\":{\"bgcolor\":\"#E5ECF6\",\"angularaxis\":{\"gridcolor\":\"white\",\"linecolor\":\"white\",\"ticks\":\"\"},\"radialaxis\":{\"gridcolor\":\"white\",\"linecolor\":\"white\",\"ticks\":\"\"}},\"ternary\":{\"bgcolor\":\"#E5ECF6\",\"aaxis\":{\"gridcolor\":\"white\",\"linecolor\":\"white\",\"ticks\":\"\"},\"baxis\":{\"gridcolor\":\"white\",\"linecolor\":\"white\",\"ticks\":\"\"},\"caxis\":{\"gridcolor\":\"white\",\"linecolor\":\"white\",\"ticks\":\"\"}},\"coloraxis\":{\"colorbar\":{\"outlinewidth\":0,\"ticks\":\"\"}},\"colorscale\":{\"sequential\":[[0.0,\"#0d0887\"],[0.1111111111111111,\"#46039f\"],[0.2222222222222222,\"#7201a8\"],[0.3333333333333333,\"#9c179e\"],[0.4444444444444444,\"#bd3786\"],[0.5555555555555556,\"#d8576b\"],[0.6666666666666666,\"#ed7953\"],[0.7777777777777778,\"#fb9f3a\"],[0.8888888888888888,\"#fdca26\"],[1.0,\"#f0f921\"]],\"sequentialminus\":[[0.0,\"#0d0887\"],[0.1111111111111111,\"#46039f\"],[0.2222222222222222,\"#7201a8\"],[0.3333333333333333,\"#9c179e\"],[0.4444444444444444,\"#bd3786\"],[0.5555555555555556,\"#d8576b\"],[0.6666666666666666,\"#ed7953\"],[0.7777777777777778,\"#fb9f3a\"],[0.8888888888888888,\"#fdca26\"],[1.0,\"#f0f921\"]],\"diverging\":[[0,\"#8e0152\"],[0.1,\"#c51b7d\"],[0.2,\"#de77ae\"],[0.3,\"#f1b6da\"],[0.4,\"#fde0ef\"],[0.5,\"#f7f7f7\"],[0.6,\"#e6f5d0\"],[0.7,\"#b8e186\"],[0.8,\"#7fbc41\"],[0.9,\"#4d9221\"],[1,\"#276419\"]]},\"xaxis\":{\"gridcolor\":\"white\",\"linecolor\":\"white\",\"ticks\":\"\",\"title\":{\"standoff\":15},\"zerolinecolor\":\"white\",\"automargin\":true,\"zerolinewidth\":2},\"yaxis\":{\"gridcolor\":\"white\",\"linecolor\":\"white\",\"ticks\":\"\",\"title\":{\"standoff\":15},\"zerolinecolor\":\"white\",\"automargin\":true,\"zerolinewidth\":2},\"scene\":{\"xaxis\":{\"backgroundcolor\":\"#E5ECF6\",\"gridcolor\":\"white\",\"linecolor\":\"white\",\"showbackground\":true,\"ticks\":\"\",\"zerolinecolor\":\"white\",\"gridwidth\":2},\"yaxis\":{\"backgroundcolor\":\"#E5ECF6\",\"gridcolor\":\"white\",\"linecolor\":\"white\",\"showbackground\":true,\"ticks\":\"\",\"zerolinecolor\":\"white\",\"gridwidth\":2},\"zaxis\":{\"backgroundcolor\":\"#E5ECF6\",\"gridcolor\":\"white\",\"linecolor\":\"white\",\"showbackground\":true,\"ticks\":\"\",\"zerolinecolor\":\"white\",\"gridwidth\":2}},\"shapedefaults\":{\"line\":{\"color\":\"#2a3f5f\"}},\"annotationdefaults\":{\"arrowcolor\":\"#2a3f5f\",\"arrowhead\":0,\"arrowwidth\":1},\"geo\":{\"bgcolor\":\"white\",\"landcolor\":\"#E5ECF6\",\"subunitcolor\":\"white\",\"showland\":true,\"showlakes\":true,\"lakecolor\":\"white\"},\"title\":{\"x\":0.05},\"mapbox\":{\"style\":\"light\"}}},\"xaxis\":{\"anchor\":\"y\",\"domain\":[0.0,1.0],\"title\":{\"text\":\"Tactics\"}},\"yaxis\":{\"anchor\":\"x\",\"domain\":[0.0,1.0],\"title\":{\"text\":\"Technique Count\"}},\"legend\":{\"tracegroupgap\":0},\"title\":{\"text\":\"Techniques used per Tactic\"},\"barmode\":\"relative\"},                        {\"responsive\": true}                    ).then(function(){\n",
       "                            \n",
       "var gd = document.getElementById('196163ee-6223-4417-8465-36b75c22788e');\n",
       "var x = new MutationObserver(function (mutations, observer) {{\n",
       "        var display = window.getComputedStyle(gd).display;\n",
       "        if (!display || display === 'none') {{\n",
       "            console.log([gd, 'removed!']);\n",
       "            Plotly.purge(gd);\n",
       "            observer.disconnect();\n",
       "        }}\n",
       "}});\n",
       "\n",
       "// Listen for the removal of the full notebook cells\n",
       "var notebookContainer = gd.closest('#notebook-container');\n",
       "if (notebookContainer) {{\n",
       "    x.observe(notebookContainer, {childList: true});\n",
       "}}\n",
       "\n",
       "// Listen for the clearing of the current output cell\n",
       "var outputEl = gd.closest('.output');\n",
       "if (outputEl) {{\n",
       "    x.observe(outputEl, {childList: true});\n",
       "}}\n",
       "\n",
       "                        })                };                });            </script>        </div>"
      ]
     },
     "metadata": {},
     "output_type": "display_data"
    }
   ],
   "source": [
    "# Group the data by 'tactics' and count the number of techniques per tactic\n",
    "tactics_count = techniques_tactics_df.groupby('tactics')['ID'].count().reset_index()\n",
    "\n",
    "# Rename columns for better understanding\n",
    "tactics_count.columns = ['Tactics', 'Technique Count']\n",
    "\n",
    "# Step 2: Create a bar chart using Plotly\n",
    "fig = px.bar(tactics_count, x='Tactics', y='Technique Count', title='Techniques used per Tactic')\n",
    "\n",
    "# Step 3: Display the chart\n",
    "fig.show()\n"
   ]
  },
  {
   "cell_type": "code",
   "execution_count": 23,
   "id": "097f86a7-9d93-428f-b0be-9902fe8743f3",
   "metadata": {},
   "outputs": [
    {
     "data": {
      "text/html": [
       "<div>\n",
       "<style scoped>\n",
       "    .dataframe tbody tr th:only-of-type {\n",
       "        vertical-align: middle;\n",
       "    }\n",
       "\n",
       "    .dataframe tbody tr th {\n",
       "        vertical-align: top;\n",
       "    }\n",
       "\n",
       "    .dataframe thead th {\n",
       "        text-align: right;\n",
       "    }\n",
       "</style>\n",
       "<table border=\"1\" class=\"dataframe\">\n",
       "  <thead>\n",
       "    <tr style=\"text-align: right;\">\n",
       "      <th></th>\n",
       "      <th>source ID</th>\n",
       "      <th>source name</th>\n",
       "      <th>source ref</th>\n",
       "      <th>source type</th>\n",
       "      <th>mapping type</th>\n",
       "      <th>target ID</th>\n",
       "      <th>target name</th>\n",
       "      <th>target ref</th>\n",
       "      <th>target type</th>\n",
       "      <th>mapping description</th>\n",
       "      <th>STIX ID</th>\n",
       "      <th>created</th>\n",
       "      <th>last modified</th>\n",
       "      <th>ID_group</th>\n",
       "      <th>name_group</th>\n",
       "      <th>ID_technique</th>\n",
       "      <th>name_technique</th>\n",
       "    </tr>\n",
       "  </thead>\n",
       "  <tbody>\n",
       "    <tr>\n",
       "      <th>0</th>\n",
       "      <td>G0099</td>\n",
       "      <td>APT-C-36</td>\n",
       "      <td>intrusion-set--c4d50cdf-87ce-407d-86d8-8628834...</td>\n",
       "      <td>group</td>\n",
       "      <td>uses</td>\n",
       "      <td>T1105</td>\n",
       "      <td>Ingress Tool Transfer</td>\n",
       "      <td>attack-pattern--e6919abc-99f9-4c6c-95a5-14761e...</td>\n",
       "      <td>technique</td>\n",
       "      <td>[APT-C-36](https://attack.mitre.org/groups/G00...</td>\n",
       "      <td>relationship--c3bedbae-b1e1-4a35-8c59-d181dca0...</td>\n",
       "      <td>7-May-20</td>\n",
       "      <td>14-Oct-20</td>\n",
       "      <td>G0099</td>\n",
       "      <td>APT-C-36</td>\n",
       "      <td>T1105</td>\n",
       "      <td>Ingress Tool Transfer</td>\n",
       "    </tr>\n",
       "    <tr>\n",
       "      <th>1</th>\n",
       "      <td>G0099</td>\n",
       "      <td>APT-C-36</td>\n",
       "      <td>intrusion-set--c4d50cdf-87ce-407d-86d8-8628834...</td>\n",
       "      <td>group</td>\n",
       "      <td>uses</td>\n",
       "      <td>T1204.002</td>\n",
       "      <td>Malicious File</td>\n",
       "      <td>attack-pattern--232b7f21-adf9-4b42-b936-b9d6f7...</td>\n",
       "      <td>technique</td>\n",
       "      <td>[APT-C-36](https://attack.mitre.org/groups/G00...</td>\n",
       "      <td>relationship--20599767-204a-4cbf-ada7-0f931ee9...</td>\n",
       "      <td>5-May-20</td>\n",
       "      <td>14-Oct-20</td>\n",
       "      <td>G0099</td>\n",
       "      <td>APT-C-36</td>\n",
       "      <td>T1204.002</td>\n",
       "      <td>User Execution: Malicious File</td>\n",
       "    </tr>\n",
       "    <tr>\n",
       "      <th>2</th>\n",
       "      <td>G0099</td>\n",
       "      <td>APT-C-36</td>\n",
       "      <td>intrusion-set--c4d50cdf-87ce-407d-86d8-8628834...</td>\n",
       "      <td>group</td>\n",
       "      <td>uses</td>\n",
       "      <td>T1036.004</td>\n",
       "      <td>Masquerade Task or Service</td>\n",
       "      <td>attack-pattern--7bdca9d5-d500-4d7d-8c52-5fd47b...</td>\n",
       "      <td>technique</td>\n",
       "      <td>[APT-C-36](https://attack.mitre.org/groups/G00...</td>\n",
       "      <td>relationship--5cabd775-7d78-4150-b529-bb8cfb74...</td>\n",
       "      <td>7-May-20</td>\n",
       "      <td>14-Oct-20</td>\n",
       "      <td>G0099</td>\n",
       "      <td>APT-C-36</td>\n",
       "      <td>T1036.004</td>\n",
       "      <td>Masquerading: Masquerade Task or Service</td>\n",
       "    </tr>\n",
       "    <tr>\n",
       "      <th>3</th>\n",
       "      <td>G0099</td>\n",
       "      <td>APT-C-36</td>\n",
       "      <td>intrusion-set--c4d50cdf-87ce-407d-86d8-8628834...</td>\n",
       "      <td>group</td>\n",
       "      <td>uses</td>\n",
       "      <td>T1571</td>\n",
       "      <td>Non-Standard Port</td>\n",
       "      <td>attack-pattern--b18eae87-b469-4e14-b454-b171b4...</td>\n",
       "      <td>technique</td>\n",
       "      <td>[APT-C-36](https://attack.mitre.org/groups/G00...</td>\n",
       "      <td>relationship--db0f9f05-6f76-47c3-81bf-a59d8504...</td>\n",
       "      <td>5-May-20</td>\n",
       "      <td>14-Oct-20</td>\n",
       "      <td>G0099</td>\n",
       "      <td>APT-C-36</td>\n",
       "      <td>T1571</td>\n",
       "      <td>Non-Standard Port</td>\n",
       "    </tr>\n",
       "    <tr>\n",
       "      <th>4</th>\n",
       "      <td>G0099</td>\n",
       "      <td>APT-C-36</td>\n",
       "      <td>intrusion-set--c4d50cdf-87ce-407d-86d8-8628834...</td>\n",
       "      <td>group</td>\n",
       "      <td>uses</td>\n",
       "      <td>T1027</td>\n",
       "      <td>Obfuscated Files or Information</td>\n",
       "      <td>attack-pattern--b3d682b6-98f2-4fb0-aa3b-b4df00...</td>\n",
       "      <td>technique</td>\n",
       "      <td>[APT-C-36](https://attack.mitre.org/groups/G00...</td>\n",
       "      <td>relationship--7b4b8d0b-fbc3-469a-ab62-72c5c4c4...</td>\n",
       "      <td>5-May-20</td>\n",
       "      <td>14-Oct-20</td>\n",
       "      <td>G0099</td>\n",
       "      <td>APT-C-36</td>\n",
       "      <td>T1027</td>\n",
       "      <td>Obfuscated Files or Information</td>\n",
       "    </tr>\n",
       "  </tbody>\n",
       "</table>\n",
       "</div>"
      ],
      "text/plain": [
       "  source ID source name                                         source ref  \\\n",
       "0     G0099    APT-C-36  intrusion-set--c4d50cdf-87ce-407d-86d8-8628834...   \n",
       "1     G0099    APT-C-36  intrusion-set--c4d50cdf-87ce-407d-86d8-8628834...   \n",
       "2     G0099    APT-C-36  intrusion-set--c4d50cdf-87ce-407d-86d8-8628834...   \n",
       "3     G0099    APT-C-36  intrusion-set--c4d50cdf-87ce-407d-86d8-8628834...   \n",
       "4     G0099    APT-C-36  intrusion-set--c4d50cdf-87ce-407d-86d8-8628834...   \n",
       "\n",
       "  source type mapping type  target ID                      target name  \\\n",
       "0       group         uses      T1105            Ingress Tool Transfer   \n",
       "1       group         uses  T1204.002                   Malicious File   \n",
       "2       group         uses  T1036.004       Masquerade Task or Service   \n",
       "3       group         uses      T1571                Non-Standard Port   \n",
       "4       group         uses      T1027  Obfuscated Files or Information   \n",
       "\n",
       "                                          target ref target type  \\\n",
       "0  attack-pattern--e6919abc-99f9-4c6c-95a5-14761e...   technique   \n",
       "1  attack-pattern--232b7f21-adf9-4b42-b936-b9d6f7...   technique   \n",
       "2  attack-pattern--7bdca9d5-d500-4d7d-8c52-5fd47b...   technique   \n",
       "3  attack-pattern--b18eae87-b469-4e14-b454-b171b4...   technique   \n",
       "4  attack-pattern--b3d682b6-98f2-4fb0-aa3b-b4df00...   technique   \n",
       "\n",
       "                                 mapping description  \\\n",
       "0  [APT-C-36](https://attack.mitre.org/groups/G00...   \n",
       "1  [APT-C-36](https://attack.mitre.org/groups/G00...   \n",
       "2  [APT-C-36](https://attack.mitre.org/groups/G00...   \n",
       "3  [APT-C-36](https://attack.mitre.org/groups/G00...   \n",
       "4  [APT-C-36](https://attack.mitre.org/groups/G00...   \n",
       "\n",
       "                                             STIX ID   created last modified  \\\n",
       "0  relationship--c3bedbae-b1e1-4a35-8c59-d181dca0...  7-May-20     14-Oct-20   \n",
       "1  relationship--20599767-204a-4cbf-ada7-0f931ee9...  5-May-20     14-Oct-20   \n",
       "2  relationship--5cabd775-7d78-4150-b529-bb8cfb74...  7-May-20     14-Oct-20   \n",
       "3  relationship--db0f9f05-6f76-47c3-81bf-a59d8504...  5-May-20     14-Oct-20   \n",
       "4  relationship--7b4b8d0b-fbc3-469a-ab62-72c5c4c4...  5-May-20     14-Oct-20   \n",
       "\n",
       "  ID_group name_group ID_technique                            name_technique  \n",
       "0    G0099   APT-C-36        T1105                     Ingress Tool Transfer  \n",
       "1    G0099   APT-C-36    T1204.002            User Execution: Malicious File  \n",
       "2    G0099   APT-C-36    T1036.004  Masquerading: Masquerade Task or Service  \n",
       "3    G0099   APT-C-36        T1571                         Non-Standard Port  \n",
       "4    G0099   APT-C-36        T1027           Obfuscated Files or Information  "
      ]
     },
     "execution_count": 23,
     "metadata": {},
     "output_type": "execute_result"
    }
   ],
   "source": [
    "# Load the Techniques and Groups CSV file using pd.read_csv\n",
    "file_path_groups = r\"data/Techniques_and_Groups.csv\"\n",
    "techniques_groups_df = pd.read_csv(file_path_groups)\n",
    "\n",
    "# Preview the data\n",
    "techniques_groups_df.head()"
   ]
  },
  {
   "cell_type": "code",
   "execution_count": 24,
   "id": "3ba1f48d-4975-4d23-a485-334bc2bf769f",
   "metadata": {},
   "outputs": [
    {
     "data": {
      "text/plain": [
       "Index(['source ID', 'source name', 'source ref', 'source type', 'mapping type',\n",
       "       'target ID', 'target name', 'target ref', 'target type',\n",
       "       'mapping description', 'STIX ID', 'created', 'last modified',\n",
       "       'ID_group', 'name_group', 'ID_technique', 'name_technique'],\n",
       "      dtype='object')"
      ]
     },
     "execution_count": 24,
     "metadata": {},
     "output_type": "execute_result"
    }
   ],
   "source": [
    "techniques_groups_df.columns"
   ]
  },
  {
   "cell_type": "code",
   "execution_count": 25,
   "id": "caa9c203-ce0d-4ed5-8ec8-d66a31c23b65",
   "metadata": {},
   "outputs": [
    {
     "data": {
      "application/vnd.plotly.v1+json": {
       "config": {
        "plotlyServerURL": "https://plot.ly"
       },
       "data": [
        {
         "alignmentgroup": "True",
         "hovertemplate": "Group=%{x}<br>Technique Count=%{y}<extra></extra>",
         "legendgroup": "",
         "marker": {
          "color": "#636efa",
          "pattern": {
           "shape": ""
          }
         },
         "name": "",
         "offsetgroup": "",
         "orientation": "v",
         "showlegend": false,
         "textposition": "auto",
         "type": "bar",
         "x": [
          "APT-C-36",
          "APT1",
          "APT12",
          "APT16",
          "APT17",
          "APT18",
          "APT19",
          "APT28",
          "APT29",
          "APT3",
          "APT30",
          "APT32",
          "APT33",
          "APT37",
          "APT38",
          "APT39",
          "APT41",
          "APT5",
          "Ajax Security Team",
          "Akira",
          "Andariel",
          "Aoqin Dragon",
          "Aquatic Panda",
          "Axiom",
          "BITTER",
          "BRONZE BUTLER",
          "BackdoorDiplomacy",
          "BlackOasis",
          "BlackTech",
          "Blue Mockingbird",
          "CURIUM",
          "Carbanak",
          "Chimera",
          "Cinnamon Tempest",
          "Cleaver",
          "Cobalt Group",
          "Confucius",
          "CopyKittens",
          "Dark Caracal",
          "DarkHydrus",
          "DarkVishnya",
          "Darkhotel",
          "Deep Panda",
          "Dragonfly",
          "EXOTIC LILY",
          "Earth Lusca",
          "Elderwood",
          "Ember Bear",
          "Equation",
          "Evilnum",
          "FIN10",
          "FIN13",
          "FIN4",
          "FIN5",
          "FIN6",
          "FIN7",
          "FIN8",
          "Ferocious Kitten",
          "Fox Kitten",
          "GALLIUM",
          "GCMAN",
          "GOLD SOUTHFIELD",
          "Gallmaker",
          "Gamaredon Group",
          "Gorgon Group",
          "Group5",
          "HAFNIUM",
          "HEXANE",
          "Higaisa",
          "Inception",
          "IndigoZebra",
          "Indrik Spider",
          "Ke3chang",
          "Kimsuky",
          "LAPSUS$",
          "Lazarus Group",
          "LazyScripter",
          "Leafminer",
          "Leviathan",
          "LuminousMoth",
          "Machete",
          "Magic Hound",
          "Malteiro",
          "Metador",
          "Moafee",
          "Mofang",
          "Molerats",
          "Moses Staff",
          "MoustachedBouncer",
          "MuddyWater",
          "Mustang Panda",
          "Mustard Tempest",
          "Naikon",
          "Nomadic Octopus",
          "OilRig",
          "Orangeworm",
          "PLATINUM",
          "POLONIUM",
          "PROMETHIUM",
          "Patchwork",
          "PittyTiger",
          "Poseidon Group",
          "Putter Panda",
          "RTM",
          "Rancor",
          "Rocke",
          "Sandworm Team",
          "Scarlet Mimic",
          "Scattered Spider",
          "SideCopy",
          "Sidewinder",
          "Silence",
          "Silent Librarian",
          "SilverTerrier",
          "Sowbug",
          "Stealth Falcon",
          "Strider",
          "Suckfly",
          "TA2541",
          "TA459",
          "TA505",
          "TA551",
          "TeamTNT",
          "The White Company",
          "Threat Group-1314",
          "Threat Group-3390",
          "Thrip",
          "ToddyCat",
          "Tonto Team",
          "Transparent Tribe",
          "Tropic Trooper",
          "Turla",
          "Volatile Cedar",
          "Volt Typhoon",
          "WIRTE",
          "Whitefly",
          "Windigo",
          "Windshift",
          "Winnti Group",
          "Wizard Spider",
          "ZIRCONIUM",
          "admin@338",
          "menuPass"
         ],
         "xaxis": "x",
         "y": [
          9,
          23,
          5,
          1,
          2,
          12,
          21,
          88,
          66,
          43,
          2,
          78,
          31,
          29,
          43,
          53,
          79,
          28,
          6,
          11,
          12,
          9,
          15,
          16,
          16,
          40,
          15,
          1,
          14,
          22,
          4,
          9,
          59,
          20,
          5,
          34,
          19,
          8,
          12,
          7,
          10,
          24,
          10,
          56,
          15,
          44,
          9,
          20,
          4,
          11,
          11,
          53,
          12,
          11,
          40,
          52,
          36,
          6,
          41,
          31,
          2,
          9,
          6,
          48,
          16,
          4,
          31,
          36,
          26,
          22,
          7,
          21,
          45,
          88,
          43,
          91,
          20,
          17,
          44,
          28,
          11,
          78,
          12,
          9,
          1,
          5,
          16,
          12,
          8,
          58,
          44,
          12,
          14,
          7,
          56,
          2,
          11,
          7,
          11,
          40,
          2,
          8,
          4,
          7,
          9,
          36,
          73,
          1,
          34,
          16,
          30,
          28,
          13,
          4,
          9,
          16,
          3,
          5,
          27,
          5,
          34,
          14,
          54,
          7,
          4,
          57,
          4,
          25,
          15,
          14,
          39,
          66,
          5,
          37,
          11,
          9,
          7,
          19,
          6,
          64,
          26,
          12,
          47
         ],
         "yaxis": "y"
        }
       ],
       "layout": {
        "autosize": true,
        "barmode": "relative",
        "legend": {
         "tracegroupgap": 0
        },
        "template": {
         "data": {
          "bar": [
           {
            "error_x": {
             "color": "#2a3f5f"
            },
            "error_y": {
             "color": "#2a3f5f"
            },
            "marker": {
             "line": {
              "color": "#E5ECF6",
              "width": 0.5
             },
             "pattern": {
              "fillmode": "overlay",
              "size": 10,
              "solidity": 0.2
             }
            },
            "type": "bar"
           }
          ],
          "barpolar": [
           {
            "marker": {
             "line": {
              "color": "#E5ECF6",
              "width": 0.5
             },
             "pattern": {
              "fillmode": "overlay",
              "size": 10,
              "solidity": 0.2
             }
            },
            "type": "barpolar"
           }
          ],
          "carpet": [
           {
            "aaxis": {
             "endlinecolor": "#2a3f5f",
             "gridcolor": "white",
             "linecolor": "white",
             "minorgridcolor": "white",
             "startlinecolor": "#2a3f5f"
            },
            "baxis": {
             "endlinecolor": "#2a3f5f",
             "gridcolor": "white",
             "linecolor": "white",
             "minorgridcolor": "white",
             "startlinecolor": "#2a3f5f"
            },
            "type": "carpet"
           }
          ],
          "choropleth": [
           {
            "colorbar": {
             "outlinewidth": 0,
             "ticks": ""
            },
            "type": "choropleth"
           }
          ],
          "contour": [
           {
            "colorbar": {
             "outlinewidth": 0,
             "ticks": ""
            },
            "colorscale": [
             [
              0,
              "#0d0887"
             ],
             [
              0.1111111111111111,
              "#46039f"
             ],
             [
              0.2222222222222222,
              "#7201a8"
             ],
             [
              0.3333333333333333,
              "#9c179e"
             ],
             [
              0.4444444444444444,
              "#bd3786"
             ],
             [
              0.5555555555555556,
              "#d8576b"
             ],
             [
              0.6666666666666666,
              "#ed7953"
             ],
             [
              0.7777777777777778,
              "#fb9f3a"
             ],
             [
              0.8888888888888888,
              "#fdca26"
             ],
             [
              1,
              "#f0f921"
             ]
            ],
            "type": "contour"
           }
          ],
          "contourcarpet": [
           {
            "colorbar": {
             "outlinewidth": 0,
             "ticks": ""
            },
            "type": "contourcarpet"
           }
          ],
          "heatmap": [
           {
            "colorbar": {
             "outlinewidth": 0,
             "ticks": ""
            },
            "colorscale": [
             [
              0,
              "#0d0887"
             ],
             [
              0.1111111111111111,
              "#46039f"
             ],
             [
              0.2222222222222222,
              "#7201a8"
             ],
             [
              0.3333333333333333,
              "#9c179e"
             ],
             [
              0.4444444444444444,
              "#bd3786"
             ],
             [
              0.5555555555555556,
              "#d8576b"
             ],
             [
              0.6666666666666666,
              "#ed7953"
             ],
             [
              0.7777777777777778,
              "#fb9f3a"
             ],
             [
              0.8888888888888888,
              "#fdca26"
             ],
             [
              1,
              "#f0f921"
             ]
            ],
            "type": "heatmap"
           }
          ],
          "heatmapgl": [
           {
            "colorbar": {
             "outlinewidth": 0,
             "ticks": ""
            },
            "colorscale": [
             [
              0,
              "#0d0887"
             ],
             [
              0.1111111111111111,
              "#46039f"
             ],
             [
              0.2222222222222222,
              "#7201a8"
             ],
             [
              0.3333333333333333,
              "#9c179e"
             ],
             [
              0.4444444444444444,
              "#bd3786"
             ],
             [
              0.5555555555555556,
              "#d8576b"
             ],
             [
              0.6666666666666666,
              "#ed7953"
             ],
             [
              0.7777777777777778,
              "#fb9f3a"
             ],
             [
              0.8888888888888888,
              "#fdca26"
             ],
             [
              1,
              "#f0f921"
             ]
            ],
            "type": "heatmapgl"
           }
          ],
          "histogram": [
           {
            "marker": {
             "pattern": {
              "fillmode": "overlay",
              "size": 10,
              "solidity": 0.2
             }
            },
            "type": "histogram"
           }
          ],
          "histogram2d": [
           {
            "colorbar": {
             "outlinewidth": 0,
             "ticks": ""
            },
            "colorscale": [
             [
              0,
              "#0d0887"
             ],
             [
              0.1111111111111111,
              "#46039f"
             ],
             [
              0.2222222222222222,
              "#7201a8"
             ],
             [
              0.3333333333333333,
              "#9c179e"
             ],
             [
              0.4444444444444444,
              "#bd3786"
             ],
             [
              0.5555555555555556,
              "#d8576b"
             ],
             [
              0.6666666666666666,
              "#ed7953"
             ],
             [
              0.7777777777777778,
              "#fb9f3a"
             ],
             [
              0.8888888888888888,
              "#fdca26"
             ],
             [
              1,
              "#f0f921"
             ]
            ],
            "type": "histogram2d"
           }
          ],
          "histogram2dcontour": [
           {
            "colorbar": {
             "outlinewidth": 0,
             "ticks": ""
            },
            "colorscale": [
             [
              0,
              "#0d0887"
             ],
             [
              0.1111111111111111,
              "#46039f"
             ],
             [
              0.2222222222222222,
              "#7201a8"
             ],
             [
              0.3333333333333333,
              "#9c179e"
             ],
             [
              0.4444444444444444,
              "#bd3786"
             ],
             [
              0.5555555555555556,
              "#d8576b"
             ],
             [
              0.6666666666666666,
              "#ed7953"
             ],
             [
              0.7777777777777778,
              "#fb9f3a"
             ],
             [
              0.8888888888888888,
              "#fdca26"
             ],
             [
              1,
              "#f0f921"
             ]
            ],
            "type": "histogram2dcontour"
           }
          ],
          "mesh3d": [
           {
            "colorbar": {
             "outlinewidth": 0,
             "ticks": ""
            },
            "type": "mesh3d"
           }
          ],
          "parcoords": [
           {
            "line": {
             "colorbar": {
              "outlinewidth": 0,
              "ticks": ""
             }
            },
            "type": "parcoords"
           }
          ],
          "pie": [
           {
            "automargin": true,
            "type": "pie"
           }
          ],
          "scatter": [
           {
            "fillpattern": {
             "fillmode": "overlay",
             "size": 10,
             "solidity": 0.2
            },
            "type": "scatter"
           }
          ],
          "scatter3d": [
           {
            "line": {
             "colorbar": {
              "outlinewidth": 0,
              "ticks": ""
             }
            },
            "marker": {
             "colorbar": {
              "outlinewidth": 0,
              "ticks": ""
             }
            },
            "type": "scatter3d"
           }
          ],
          "scattercarpet": [
           {
            "marker": {
             "colorbar": {
              "outlinewidth": 0,
              "ticks": ""
             }
            },
            "type": "scattercarpet"
           }
          ],
          "scattergeo": [
           {
            "marker": {
             "colorbar": {
              "outlinewidth": 0,
              "ticks": ""
             }
            },
            "type": "scattergeo"
           }
          ],
          "scattergl": [
           {
            "marker": {
             "colorbar": {
              "outlinewidth": 0,
              "ticks": ""
             }
            },
            "type": "scattergl"
           }
          ],
          "scattermapbox": [
           {
            "marker": {
             "colorbar": {
              "outlinewidth": 0,
              "ticks": ""
             }
            },
            "type": "scattermapbox"
           }
          ],
          "scatterpolar": [
           {
            "marker": {
             "colorbar": {
              "outlinewidth": 0,
              "ticks": ""
             }
            },
            "type": "scatterpolar"
           }
          ],
          "scatterpolargl": [
           {
            "marker": {
             "colorbar": {
              "outlinewidth": 0,
              "ticks": ""
             }
            },
            "type": "scatterpolargl"
           }
          ],
          "scatterternary": [
           {
            "marker": {
             "colorbar": {
              "outlinewidth": 0,
              "ticks": ""
             }
            },
            "type": "scatterternary"
           }
          ],
          "surface": [
           {
            "colorbar": {
             "outlinewidth": 0,
             "ticks": ""
            },
            "colorscale": [
             [
              0,
              "#0d0887"
             ],
             [
              0.1111111111111111,
              "#46039f"
             ],
             [
              0.2222222222222222,
              "#7201a8"
             ],
             [
              0.3333333333333333,
              "#9c179e"
             ],
             [
              0.4444444444444444,
              "#bd3786"
             ],
             [
              0.5555555555555556,
              "#d8576b"
             ],
             [
              0.6666666666666666,
              "#ed7953"
             ],
             [
              0.7777777777777778,
              "#fb9f3a"
             ],
             [
              0.8888888888888888,
              "#fdca26"
             ],
             [
              1,
              "#f0f921"
             ]
            ],
            "type": "surface"
           }
          ],
          "table": [
           {
            "cells": {
             "fill": {
              "color": "#EBF0F8"
             },
             "line": {
              "color": "white"
             }
            },
            "header": {
             "fill": {
              "color": "#C8D4E3"
             },
             "line": {
              "color": "white"
             }
            },
            "type": "table"
           }
          ]
         },
         "layout": {
          "annotationdefaults": {
           "arrowcolor": "#2a3f5f",
           "arrowhead": 0,
           "arrowwidth": 1
          },
          "autotypenumbers": "strict",
          "coloraxis": {
           "colorbar": {
            "outlinewidth": 0,
            "ticks": ""
           }
          },
          "colorscale": {
           "diverging": [
            [
             0,
             "#8e0152"
            ],
            [
             0.1,
             "#c51b7d"
            ],
            [
             0.2,
             "#de77ae"
            ],
            [
             0.3,
             "#f1b6da"
            ],
            [
             0.4,
             "#fde0ef"
            ],
            [
             0.5,
             "#f7f7f7"
            ],
            [
             0.6,
             "#e6f5d0"
            ],
            [
             0.7,
             "#b8e186"
            ],
            [
             0.8,
             "#7fbc41"
            ],
            [
             0.9,
             "#4d9221"
            ],
            [
             1,
             "#276419"
            ]
           ],
           "sequential": [
            [
             0,
             "#0d0887"
            ],
            [
             0.1111111111111111,
             "#46039f"
            ],
            [
             0.2222222222222222,
             "#7201a8"
            ],
            [
             0.3333333333333333,
             "#9c179e"
            ],
            [
             0.4444444444444444,
             "#bd3786"
            ],
            [
             0.5555555555555556,
             "#d8576b"
            ],
            [
             0.6666666666666666,
             "#ed7953"
            ],
            [
             0.7777777777777778,
             "#fb9f3a"
            ],
            [
             0.8888888888888888,
             "#fdca26"
            ],
            [
             1,
             "#f0f921"
            ]
           ],
           "sequentialminus": [
            [
             0,
             "#0d0887"
            ],
            [
             0.1111111111111111,
             "#46039f"
            ],
            [
             0.2222222222222222,
             "#7201a8"
            ],
            [
             0.3333333333333333,
             "#9c179e"
            ],
            [
             0.4444444444444444,
             "#bd3786"
            ],
            [
             0.5555555555555556,
             "#d8576b"
            ],
            [
             0.6666666666666666,
             "#ed7953"
            ],
            [
             0.7777777777777778,
             "#fb9f3a"
            ],
            [
             0.8888888888888888,
             "#fdca26"
            ],
            [
             1,
             "#f0f921"
            ]
           ]
          },
          "colorway": [
           "#636efa",
           "#EF553B",
           "#00cc96",
           "#ab63fa",
           "#FFA15A",
           "#19d3f3",
           "#FF6692",
           "#B6E880",
           "#FF97FF",
           "#FECB52"
          ],
          "font": {
           "color": "#2a3f5f"
          },
          "geo": {
           "bgcolor": "white",
           "lakecolor": "white",
           "landcolor": "#E5ECF6",
           "showlakes": true,
           "showland": true,
           "subunitcolor": "white"
          },
          "hoverlabel": {
           "align": "left"
          },
          "hovermode": "closest",
          "mapbox": {
           "style": "light"
          },
          "paper_bgcolor": "white",
          "plot_bgcolor": "#E5ECF6",
          "polar": {
           "angularaxis": {
            "gridcolor": "white",
            "linecolor": "white",
            "ticks": ""
           },
           "bgcolor": "#E5ECF6",
           "radialaxis": {
            "gridcolor": "white",
            "linecolor": "white",
            "ticks": ""
           }
          },
          "scene": {
           "xaxis": {
            "backgroundcolor": "#E5ECF6",
            "gridcolor": "white",
            "gridwidth": 2,
            "linecolor": "white",
            "showbackground": true,
            "ticks": "",
            "zerolinecolor": "white"
           },
           "yaxis": {
            "backgroundcolor": "#E5ECF6",
            "gridcolor": "white",
            "gridwidth": 2,
            "linecolor": "white",
            "showbackground": true,
            "ticks": "",
            "zerolinecolor": "white"
           },
           "zaxis": {
            "backgroundcolor": "#E5ECF6",
            "gridcolor": "white",
            "gridwidth": 2,
            "linecolor": "white",
            "showbackground": true,
            "ticks": "",
            "zerolinecolor": "white"
           }
          },
          "shapedefaults": {
           "line": {
            "color": "#2a3f5f"
           }
          },
          "ternary": {
           "aaxis": {
            "gridcolor": "white",
            "linecolor": "white",
            "ticks": ""
           },
           "baxis": {
            "gridcolor": "white",
            "linecolor": "white",
            "ticks": ""
           },
           "bgcolor": "#E5ECF6",
           "caxis": {
            "gridcolor": "white",
            "linecolor": "white",
            "ticks": ""
           }
          },
          "title": {
           "x": 0.05
          },
          "xaxis": {
           "automargin": true,
           "gridcolor": "white",
           "linecolor": "white",
           "ticks": "",
           "title": {
            "standoff": 15
           },
           "zerolinecolor": "white",
           "zerolinewidth": 2
          },
          "yaxis": {
           "automargin": true,
           "gridcolor": "white",
           "linecolor": "white",
           "ticks": "",
           "title": {
            "standoff": 15
           },
           "zerolinecolor": "white",
           "zerolinewidth": 2
          }
         }
        },
        "title": {
         "text": "Techniques used by each Group"
        },
        "xaxis": {
         "anchor": "y",
         "autorange": true,
         "domain": [
          0,
          1
         ],
         "range": [
          -0.5,
          142.5
         ],
         "title": {
          "text": "Group"
         },
         "type": "category"
        },
        "yaxis": {
         "anchor": "x",
         "autorange": true,
         "domain": [
          0,
          1
         ],
         "range": [
          0,
          95.78947368421052
         ],
         "title": {
          "text": "Technique Count"
         },
         "type": "linear"
        }
       }
      },
      "image/png": "[encoded data removed]",
      "text/html": [
       "<div>                            <div id=\"cb45fe76-00f4-4091-82b1-e855a130f3ad\" class=\"plotly-graph-div\" style=\"height:525px; width:100%;\"></div>            <script type=\"text/javascript\">                require([\"plotly\"], function(Plotly) {                    window.PLOTLYENV=window.PLOTLYENV || {};                                    if (document.getElementById(\"cb45fe76-00f4-4091-82b1-e855a130f3ad\")) {                    Plotly.newPlot(                        \"cb45fe76-00f4-4091-82b1-e855a130f3ad\",                        [{\"alignmentgroup\":\"True\",\"hovertemplate\":\"Group=%{x}\\u003cbr\\u003eTechnique Count=%{y}\\u003cextra\\u003e\\u003c\\u002fextra\\u003e\",\"legendgroup\":\"\",\"marker\":{\"color\":\"#636efa\",\"pattern\":{\"shape\":\"\"}},\"name\":\"\",\"offsetgroup\":\"\",\"orientation\":\"v\",\"showlegend\":false,\"textposition\":\"auto\",\"x\":[\"APT-C-36\",\"APT1\",\"APT12\",\"APT16\",\"APT17\",\"APT18\",\"APT19\",\"APT28\",\"APT29\",\"APT3\",\"APT30\",\"APT32\",\"APT33\",\"APT37\",\"APT38\",\"APT39\",\"APT41\",\"APT5\",\"Ajax Security Team\",\"Akira\",\"Andariel\",\"Aoqin Dragon\",\"Aquatic Panda\",\"Axiom\",\"BITTER\",\"BRONZE BUTLER\",\"BackdoorDiplomacy\",\"BlackOasis\",\"BlackTech\",\"Blue Mockingbird\",\"CURIUM\",\"Carbanak\",\"Chimera\",\"Cinnamon Tempest\",\"Cleaver\",\"Cobalt Group\",\"Confucius\",\"CopyKittens\",\"Dark Caracal\",\"DarkHydrus\",\"DarkVishnya\",\"Darkhotel\",\"Deep Panda\",\"Dragonfly\",\"EXOTIC LILY\",\"Earth Lusca\",\"Elderwood\",\"Ember Bear\",\"Equation\",\"Evilnum\",\"FIN10\",\"FIN13\",\"FIN4\",\"FIN5\",\"FIN6\",\"FIN7\",\"FIN8\",\"Ferocious Kitten\",\"Fox Kitten\",\"GALLIUM\",\"GCMAN\",\"GOLD SOUTHFIELD\",\"Gallmaker\",\"Gamaredon Group\",\"Gorgon Group\",\"Group5\",\"HAFNIUM\",\"HEXANE\",\"Higaisa\",\"Inception\",\"IndigoZebra\",\"Indrik Spider\",\"Ke3chang\",\"Kimsuky\",\"LAPSUS$\",\"Lazarus Group\",\"LazyScripter\",\"Leafminer\",\"Leviathan\",\"LuminousMoth\",\"Machete\",\"Magic Hound\",\"Malteiro\",\"Metador\",\"Moafee\",\"Mofang\",\"Molerats\",\"Moses Staff\",\"MoustachedBouncer\",\"MuddyWater\",\"Mustang Panda\",\"Mustard Tempest\",\"Naikon\",\"Nomadic Octopus\",\"OilRig\",\"Orangeworm\",\"PLATINUM\",\"POLONIUM\",\"PROMETHIUM\",\"Patchwork\",\"PittyTiger\",\"Poseidon Group\",\"Putter Panda\",\"RTM\",\"Rancor\",\"Rocke\",\"Sandworm Team\",\"Scarlet Mimic\",\"Scattered Spider\",\"SideCopy\",\"Sidewinder\",\"Silence\",\"Silent Librarian\",\"SilverTerrier\",\"Sowbug\",\"Stealth Falcon\",\"Strider\",\"Suckfly\",\"TA2541\",\"TA459\",\"TA505\",\"TA551\",\"TeamTNT\",\"The White Company\",\"Threat Group-1314\",\"Threat Group-3390\",\"Thrip\",\"ToddyCat\",\"Tonto Team\",\"Transparent Tribe\",\"Tropic Trooper\",\"Turla\",\"Volatile Cedar\",\"Volt Typhoon\",\"WIRTE\",\"Whitefly\",\"Windigo\",\"Windshift\",\"Winnti Group\",\"Wizard Spider\",\"ZIRCONIUM\",\"admin@338\",\"menuPass\"],\"xaxis\":\"x\",\"y\":[9,23,5,1,2,12,21,88,66,43,2,78,31,29,43,53,79,28,6,11,12,9,15,16,16,40,15,1,14,22,4,9,59,20,5,34,19,8,12,7,10,24,10,56,15,44,9,20,4,11,11,53,12,11,40,52,36,6,41,31,2,9,6,48,16,4,31,36,26,22,7,21,45,88,43,91,20,17,44,28,11,78,12,9,1,5,16,12,8,58,44,12,14,7,56,2,11,7,11,40,2,8,4,7,9,36,73,1,34,16,30,28,13,4,9,16,3,5,27,5,34,14,54,7,4,57,4,25,15,14,39,66,5,37,11,9,7,19,6,64,26,12,47],\"yaxis\":\"y\",\"type\":\"bar\"}],                        {\"template\":{\"data\":{\"histogram2dcontour\":[{\"type\":\"histogram2dcontour\",\"colorbar\":{\"outlinewidth\":0,\"ticks\":\"\"},\"colorscale\":[[0.0,\"#0d0887\"],[0.1111111111111111,\"#46039f\"],[0.2222222222222222,\"#7201a8\"],[0.3333333333333333,\"#9c179e\"],[0.4444444444444444,\"#bd3786\"],[0.5555555555555556,\"#d8576b\"],[0.6666666666666666,\"#ed7953\"],[0.7777777777777778,\"#fb9f3a\"],[0.8888888888888888,\"#fdca26\"],[1.0,\"#f0f921\"]]}],\"choropleth\":[{\"type\":\"choropleth\",\"colorbar\":{\"outlinewidth\":0,\"ticks\":\"\"}}],\"histogram2d\":[{\"type\":\"histogram2d\",\"colorbar\":{\"outlinewidth\":0,\"ticks\":\"\"},\"colorscale\":[[0.0,\"#0d0887\"],[0.1111111111111111,\"#46039f\"],[0.2222222222222222,\"#7201a8\"],[0.3333333333333333,\"#9c179e\"],[0.4444444444444444,\"#bd3786\"],[0.5555555555555556,\"#d8576b\"],[0.6666666666666666,\"#ed7953\"],[0.7777777777777778,\"#fb9f3a\"],[0.8888888888888888,\"#fdca26\"],[1.0,\"#f0f921\"]]}],\"heatmap\":[{\"type\":\"heatmap\",\"colorbar\":{\"outlinewidth\":0,\"ticks\":\"\"},\"colorscale\":[[0.0,\"#0d0887\"],[0.1111111111111111,\"#46039f\"],[0.2222222222222222,\"#7201a8\"],[0.3333333333333333,\"#9c179e\"],[0.4444444444444444,\"#bd3786\"],[0.5555555555555556,\"#d8576b\"],[0.6666666666666666,\"#ed7953\"],[0.7777777777777778,\"#fb9f3a\"],[0.8888888888888888,\"#fdca26\"],[1.0,\"#f0f921\"]]}],\"heatmapgl\":[{\"type\":\"heatmapgl\",\"colorbar\":{\"outlinewidth\":0,\"ticks\":\"\"},\"colorscale\":[[0.0,\"#0d0887\"],[0.1111111111111111,\"#46039f\"],[0.2222222222222222,\"#7201a8\"],[0.3333333333333333,\"#9c179e\"],[0.4444444444444444,\"#bd3786\"],[0.5555555555555556,\"#d8576b\"],[0.6666666666666666,\"#ed7953\"],[0.7777777777777778,\"#fb9f3a\"],[0.8888888888888888,\"#fdca26\"],[1.0,\"#f0f921\"]]}],\"contourcarpet\":[{\"type\":\"contourcarpet\",\"colorbar\":{\"outlinewidth\":0,\"ticks\":\"\"}}],\"contour\":[{\"type\":\"contour\",\"colorbar\":{\"outlinewidth\":0,\"ticks\":\"\"},\"colorscale\":[[0.0,\"#0d0887\"],[0.1111111111111111,\"#46039f\"],[0.2222222222222222,\"#7201a8\"],[0.3333333333333333,\"#9c179e\"],[0.4444444444444444,\"#bd3786\"],[0.5555555555555556,\"#d8576b\"],[0.6666666666666666,\"#ed7953\"],[0.7777777777777778,\"#fb9f3a\"],[0.8888888888888888,\"#fdca26\"],[1.0,\"#f0f921\"]]}],\"surface\":[{\"type\":\"surface\",\"colorbar\":{\"outlinewidth\":0,\"ticks\":\"\"},\"colorscale\":[[0.0,\"#0d0887\"],[0.1111111111111111,\"#46039f\"],[0.2222222222222222,\"#7201a8\"],[0.3333333333333333,\"#9c179e\"],[0.4444444444444444,\"#bd3786\"],[0.5555555555555556,\"#d8576b\"],[0.6666666666666666,\"#ed7953\"],[0.7777777777777778,\"#fb9f3a\"],[0.8888888888888888,\"#fdca26\"],[1.0,\"#f0f921\"]]}],\"mesh3d\":[{\"type\":\"mesh3d\",\"colorbar\":{\"outlinewidth\":0,\"ticks\":\"\"}}],\"scatter\":[{\"fillpattern\":{\"fillmode\":\"overlay\",\"size\":10,\"solidity\":0.2},\"type\":\"scatter\"}],\"parcoords\":[{\"type\":\"parcoords\",\"line\":{\"colorbar\":{\"outlinewidth\":0,\"ticks\":\"\"}}}],\"scatterpolargl\":[{\"type\":\"scatterpolargl\",\"marker\":{\"colorbar\":{\"outlinewidth\":0,\"ticks\":\"\"}}}],\"bar\":[{\"error_x\":{\"color\":\"#2a3f5f\"},\"error_y\":{\"color\":\"#2a3f5f\"},\"marker\":{\"line\":{\"color\":\"#E5ECF6\",\"width\":0.5},\"pattern\":{\"fillmode\":\"overlay\",\"size\":10,\"solidity\":0.2}},\"type\":\"bar\"}],\"scattergeo\":[{\"type\":\"scattergeo\",\"marker\":{\"colorbar\":{\"outlinewidth\":0,\"ticks\":\"\"}}}],\"scatterpolar\":[{\"type\":\"scatterpolar\",\"marker\":{\"colorbar\":{\"outlinewidth\":0,\"ticks\":\"\"}}}],\"histogram\":[{\"marker\":{\"pattern\":{\"fillmode\":\"overlay\",\"size\":10,\"solidity\":0.2}},\"type\":\"histogram\"}],\"scattergl\":[{\"type\":\"scattergl\",\"marker\":{\"colorbar\":{\"outlinewidth\":0,\"ticks\":\"\"}}}],\"scatter3d\":[{\"type\":\"scatter3d\",\"line\":{\"colorbar\":{\"outlinewidth\":0,\"ticks\":\"\"}},\"marker\":{\"colorbar\":{\"outlinewidth\":0,\"ticks\":\"\"}}}],\"scattermapbox\":[{\"type\":\"scattermapbox\",\"marker\":{\"colorbar\":{\"outlinewidth\":0,\"ticks\":\"\"}}}],\"scatterternary\":[{\"type\":\"scatterternary\",\"marker\":{\"colorbar\":{\"outlinewidth\":0,\"ticks\":\"\"}}}],\"scattercarpet\":[{\"type\":\"scattercarpet\",\"marker\":{\"colorbar\":{\"outlinewidth\":0,\"ticks\":\"\"}}}],\"carpet\":[{\"aaxis\":{\"endlinecolor\":\"#2a3f5f\",\"gridcolor\":\"white\",\"linecolor\":\"white\",\"minorgridcolor\":\"white\",\"startlinecolor\":\"#2a3f5f\"},\"baxis\":{\"endlinecolor\":\"#2a3f5f\",\"gridcolor\":\"white\",\"linecolor\":\"white\",\"minorgridcolor\":\"white\",\"startlinecolor\":\"#2a3f5f\"},\"type\":\"carpet\"}],\"table\":[{\"cells\":{\"fill\":{\"color\":\"#EBF0F8\"},\"line\":{\"color\":\"white\"}},\"header\":{\"fill\":{\"color\":\"#C8D4E3\"},\"line\":{\"color\":\"white\"}},\"type\":\"table\"}],\"barpolar\":[{\"marker\":{\"line\":{\"color\":\"#E5ECF6\",\"width\":0.5},\"pattern\":{\"fillmode\":\"overlay\",\"size\":10,\"solidity\":0.2}},\"type\":\"barpolar\"}],\"pie\":[{\"automargin\":true,\"type\":\"pie\"}]},\"layout\":{\"autotypenumbers\":\"strict\",\"colorway\":[\"#636efa\",\"#EF553B\",\"#00cc96\",\"#ab63fa\",\"#FFA15A\",\"#19d3f3\",\"#FF6692\",\"#B6E880\",\"#FF97FF\",\"#FECB52\"],\"font\":{\"color\":\"#2a3f5f\"},\"hovermode\":\"closest\",\"hoverlabel\":{\"align\":\"left\"},\"paper_bgcolor\":\"white\",\"plot_bgcolor\":\"#E5ECF6\",\"polar\":{\"bgcolor\":\"#E5ECF6\",\"angularaxis\":{\"gridcolor\":\"white\",\"linecolor\":\"white\",\"ticks\":\"\"},\"radialaxis\":{\"gridcolor\":\"white\",\"linecolor\":\"white\",\"ticks\":\"\"}},\"ternary\":{\"bgcolor\":\"#E5ECF6\",\"aaxis\":{\"gridcolor\":\"white\",\"linecolor\":\"white\",\"ticks\":\"\"},\"baxis\":{\"gridcolor\":\"white\",\"linecolor\":\"white\",\"ticks\":\"\"},\"caxis\":{\"gridcolor\":\"white\",\"linecolor\":\"white\",\"ticks\":\"\"}},\"coloraxis\":{\"colorbar\":{\"outlinewidth\":0,\"ticks\":\"\"}},\"colorscale\":{\"sequential\":[[0.0,\"#0d0887\"],[0.1111111111111111,\"#46039f\"],[0.2222222222222222,\"#7201a8\"],[0.3333333333333333,\"#9c179e\"],[0.4444444444444444,\"#bd3786\"],[0.5555555555555556,\"#d8576b\"],[0.6666666666666666,\"#ed7953\"],[0.7777777777777778,\"#fb9f3a\"],[0.8888888888888888,\"#fdca26\"],[1.0,\"#f0f921\"]],\"sequentialminus\":[[0.0,\"#0d0887\"],[0.1111111111111111,\"#46039f\"],[0.2222222222222222,\"#7201a8\"],[0.3333333333333333,\"#9c179e\"],[0.4444444444444444,\"#bd3786\"],[0.5555555555555556,\"#d8576b\"],[0.6666666666666666,\"#ed7953\"],[0.7777777777777778,\"#fb9f3a\"],[0.8888888888888888,\"#fdca26\"],[1.0,\"#f0f921\"]],\"diverging\":[[0,\"#8e0152\"],[0.1,\"#c51b7d\"],[0.2,\"#de77ae\"],[0.3,\"#f1b6da\"],[0.4,\"#fde0ef\"],[0.5,\"#f7f7f7\"],[0.6,\"#e6f5d0\"],[0.7,\"#b8e186\"],[0.8,\"#7fbc41\"],[0.9,\"#4d9221\"],[1,\"#276419\"]]},\"xaxis\":{\"gridcolor\":\"white\",\"linecolor\":\"white\",\"ticks\":\"\",\"title\":{\"standoff\":15},\"zerolinecolor\":\"white\",\"automargin\":true,\"zerolinewidth\":2},\"yaxis\":{\"gridcolor\":\"white\",\"linecolor\":\"white\",\"ticks\":\"\",\"title\":{\"standoff\":15},\"zerolinecolor\":\"white\",\"automargin\":true,\"zerolinewidth\":2},\"scene\":{\"xaxis\":{\"backgroundcolor\":\"#E5ECF6\",\"gridcolor\":\"white\",\"linecolor\":\"white\",\"showbackground\":true,\"ticks\":\"\",\"zerolinecolor\":\"white\",\"gridwidth\":2},\"yaxis\":{\"backgroundcolor\":\"#E5ECF6\",\"gridcolor\":\"white\",\"linecolor\":\"white\",\"showbackground\":true,\"ticks\":\"\",\"zerolinecolor\":\"white\",\"gridwidth\":2},\"zaxis\":{\"backgroundcolor\":\"#E5ECF6\",\"gridcolor\":\"white\",\"linecolor\":\"white\",\"showbackground\":true,\"ticks\":\"\",\"zerolinecolor\":\"white\",\"gridwidth\":2}},\"shapedefaults\":{\"line\":{\"color\":\"#2a3f5f\"}},\"annotationdefaults\":{\"arrowcolor\":\"#2a3f5f\",\"arrowhead\":0,\"arrowwidth\":1},\"geo\":{\"bgcolor\":\"white\",\"landcolor\":\"#E5ECF6\",\"subunitcolor\":\"white\",\"showland\":true,\"showlakes\":true,\"lakecolor\":\"white\"},\"title\":{\"x\":0.05},\"mapbox\":{\"style\":\"light\"}}},\"xaxis\":{\"anchor\":\"y\",\"domain\":[0.0,1.0],\"title\":{\"text\":\"Group\"}},\"yaxis\":{\"anchor\":\"x\",\"domain\":[0.0,1.0],\"title\":{\"text\":\"Technique Count\"}},\"legend\":{\"tracegroupgap\":0},\"title\":{\"text\":\"Techniques used by each Group\"},\"barmode\":\"relative\"},                        {\"responsive\": true}                    ).then(function(){\n",
       "                            \n",
       "var gd = document.getElementById('cb45fe76-00f4-4091-82b1-e855a130f3ad');\n",
       "var x = new MutationObserver(function (mutations, observer) {{\n",
       "        var display = window.getComputedStyle(gd).display;\n",
       "        if (!display || display === 'none') {{\n",
       "            console.log([gd, 'removed!']);\n",
       "            Plotly.purge(gd);\n",
       "            observer.disconnect();\n",
       "        }}\n",
       "}});\n",
       "\n",
       "// Listen for the removal of the full notebook cells\n",
       "var notebookContainer = gd.closest('#notebook-container');\n",
       "if (notebookContainer) {{\n",
       "    x.observe(notebookContainer, {childList: true});\n",
       "}}\n",
       "\n",
       "// Listen for the clearing of the current output cell\n",
       "var outputEl = gd.closest('.output');\n",
       "if (outputEl) {{\n",
       "    x.observe(outputEl, {childList: true});\n",
       "}}\n",
       "\n",
       "                        })                };                });            </script>        </div>"
      ]
     },
     "metadata": {},
     "output_type": "display_data"
    }
   ],
   "source": [
    "# Group the data by 'name_group' and count the number of techniques used by each group\n",
    "groups_count = techniques_groups_df.groupby('name_group')['name_technique'].count().reset_index()\n",
    "\n",
    "# Rename columns for better understanding\n",
    "groups_count.columns = ['Group', 'Technique Count']\n",
    "\n",
    "# Step 2: Create a bar chart using Plotly\n",
    "fig = px.bar(groups_count, x='Group', y='Technique Count', title='Techniques used by each Group')\n",
    "\n",
    "# Step 3: Display the chart\n",
    "fig.show()"
   ]
  },
  {
   "cell_type": "code",
   "execution_count": 26,
   "id": "b2d5e83d-19fc-48c0-91d2-43120598f0c2",
   "metadata": {},
   "outputs": [
    {
     "data": {
      "text/html": [
       "<div>\n",
       "<style scoped>\n",
       "    .dataframe tbody tr th:only-of-type {\n",
       "        vertical-align: middle;\n",
       "    }\n",
       "\n",
       "    .dataframe tbody tr th {\n",
       "        vertical-align: top;\n",
       "    }\n",
       "\n",
       "    .dataframe thead th {\n",
       "        text-align: right;\n",
       "    }\n",
       "</style>\n",
       "<table border=\"1\" class=\"dataframe\">\n",
       "  <thead>\n",
       "    <tr style=\"text-align: right;\">\n",
       "      <th></th>\n",
       "      <th>source ID</th>\n",
       "      <th>source name</th>\n",
       "      <th>source ref</th>\n",
       "      <th>source type</th>\n",
       "      <th>mapping type</th>\n",
       "      <th>target ID</th>\n",
       "      <th>target name</th>\n",
       "      <th>target ref</th>\n",
       "      <th>target type</th>\n",
       "      <th>mapping description</th>\n",
       "      <th>STIX ID</th>\n",
       "      <th>created</th>\n",
       "      <th>last modified</th>\n",
       "      <th>ID_software</th>\n",
       "      <th>name_software</th>\n",
       "      <th>ID_technique</th>\n",
       "      <th>name_technique</th>\n",
       "    </tr>\n",
       "  </thead>\n",
       "  <tbody>\n",
       "    <tr>\n",
       "      <th>0</th>\n",
       "      <td>S0066</td>\n",
       "      <td>3PARA RAT</td>\n",
       "      <td>malware--7bec698a-7e20-4fd3-bb6a-12787770fb1a</td>\n",
       "      <td>software</td>\n",
       "      <td>uses</td>\n",
       "      <td>T1083</td>\n",
       "      <td>File and Directory Discovery</td>\n",
       "      <td>attack-pattern--7bc57495-ea59-4380-be31-a64af1...</td>\n",
       "      <td>technique</td>\n",
       "      <td>[3PARA RAT](https://attack.mitre.org/software/...</td>\n",
       "      <td>relationship--7c0995ef-ab5d-48f9-8884-7d953c4c...</td>\n",
       "      <td>14-Dec-17</td>\n",
       "      <td>16-Mar-20</td>\n",
       "      <td>S0066</td>\n",
       "      <td>3PARA RAT</td>\n",
       "      <td>T1083</td>\n",
       "      <td>File and Directory Discovery</td>\n",
       "    </tr>\n",
       "    <tr>\n",
       "      <th>1</th>\n",
       "      <td>S0066</td>\n",
       "      <td>3PARA RAT</td>\n",
       "      <td>malware--7bec698a-7e20-4fd3-bb6a-12787770fb1a</td>\n",
       "      <td>software</td>\n",
       "      <td>uses</td>\n",
       "      <td>T1573.001</td>\n",
       "      <td>Symmetric Cryptography</td>\n",
       "      <td>attack-pattern--24bfaeba-cb0d-4525-b3dc-507c77...</td>\n",
       "      <td>technique</td>\n",
       "      <td>[3PARA RAT](https://attack.mitre.org/software/...</td>\n",
       "      <td>relationship--0e630f6b-8662-4ffe-b666-709e17aa...</td>\n",
       "      <td>14-Dec-17</td>\n",
       "      <td>30-Mar-20</td>\n",
       "      <td>S0066</td>\n",
       "      <td>3PARA RAT</td>\n",
       "      <td>T1573.001</td>\n",
       "      <td>Encrypted Channel: Symmetric Cryptography</td>\n",
       "    </tr>\n",
       "    <tr>\n",
       "      <th>2</th>\n",
       "      <td>S0066</td>\n",
       "      <td>3PARA RAT</td>\n",
       "      <td>malware--7bec698a-7e20-4fd3-bb6a-12787770fb1a</td>\n",
       "      <td>software</td>\n",
       "      <td>uses</td>\n",
       "      <td>T1070.006</td>\n",
       "      <td>Timestomp</td>\n",
       "      <td>attack-pattern--47f2d673-ca62-47e9-929b-1b0be9...</td>\n",
       "      <td>technique</td>\n",
       "      <td>[3PARA RAT](https://attack.mitre.org/software/...</td>\n",
       "      <td>relationship--d43315b0-d708-4197-b3ed-0a0b1199...</td>\n",
       "      <td>14-Dec-17</td>\n",
       "      <td>16-Mar-20</td>\n",
       "      <td>S0066</td>\n",
       "      <td>3PARA RAT</td>\n",
       "      <td>T1070.006</td>\n",
       "      <td>Indicator Removal: Timestomp</td>\n",
       "    </tr>\n",
       "    <tr>\n",
       "      <th>3</th>\n",
       "      <td>S0066</td>\n",
       "      <td>3PARA RAT</td>\n",
       "      <td>malware--7bec698a-7e20-4fd3-bb6a-12787770fb1a</td>\n",
       "      <td>software</td>\n",
       "      <td>uses</td>\n",
       "      <td>T1071.001</td>\n",
       "      <td>Web Protocols</td>\n",
       "      <td>attack-pattern--df8b2a25-8bdf-4856-953c-a04372...</td>\n",
       "      <td>technique</td>\n",
       "      <td>[3PARA RAT](https://attack.mitre.org/software/...</td>\n",
       "      <td>relationship--2d659138-90e5-4b67-8956-02120d99...</td>\n",
       "      <td>14-Dec-17</td>\n",
       "      <td>16-Mar-20</td>\n",
       "      <td>S0066</td>\n",
       "      <td>3PARA RAT</td>\n",
       "      <td>T1071.001</td>\n",
       "      <td>Application Layer Protocol: Web Protocols</td>\n",
       "    </tr>\n",
       "    <tr>\n",
       "      <th>4</th>\n",
       "      <td>S0065</td>\n",
       "      <td>4H RAT</td>\n",
       "      <td>malware--8e461ca3-0996-4e6e-a0df-e2a5bbc51ebc</td>\n",
       "      <td>software</td>\n",
       "      <td>uses</td>\n",
       "      <td>T1083</td>\n",
       "      <td>File and Directory Discovery</td>\n",
       "      <td>attack-pattern--7bc57495-ea59-4380-be31-a64af1...</td>\n",
       "      <td>technique</td>\n",
       "      <td>[4H RAT](https://attack.mitre.org/software/S00...</td>\n",
       "      <td>relationship--26968975-5f01-4b4b-9cdc-ef3b7671...</td>\n",
       "      <td>14-Dec-17</td>\n",
       "      <td>17-Mar-20</td>\n",
       "      <td>S0065</td>\n",
       "      <td>4H RAT</td>\n",
       "      <td>T1083</td>\n",
       "      <td>File and Directory Discovery</td>\n",
       "    </tr>\n",
       "  </tbody>\n",
       "</table>\n",
       "</div>"
      ],
      "text/plain": [
       "  source ID source name                                     source ref  \\\n",
       "0     S0066   3PARA RAT  malware--7bec698a-7e20-4fd3-bb6a-12787770fb1a   \n",
       "1     S0066   3PARA RAT  malware--7bec698a-7e20-4fd3-bb6a-12787770fb1a   \n",
       "2     S0066   3PARA RAT  malware--7bec698a-7e20-4fd3-bb6a-12787770fb1a   \n",
       "3     S0066   3PARA RAT  malware--7bec698a-7e20-4fd3-bb6a-12787770fb1a   \n",
       "4     S0065      4H RAT  malware--8e461ca3-0996-4e6e-a0df-e2a5bbc51ebc   \n",
       "\n",
       "  source type mapping type  target ID                   target name  \\\n",
       "0    software         uses      T1083  File and Directory Discovery   \n",
       "1    software         uses  T1573.001        Symmetric Cryptography   \n",
       "2    software         uses  T1070.006                     Timestomp   \n",
       "3    software         uses  T1071.001                 Web Protocols   \n",
       "4    software         uses      T1083  File and Directory Discovery   \n",
       "\n",
       "                                          target ref target type  \\\n",
       "0  attack-pattern--7bc57495-ea59-4380-be31-a64af1...   technique   \n",
       "1  attack-pattern--24bfaeba-cb0d-4525-b3dc-507c77...   technique   \n",
       "2  attack-pattern--47f2d673-ca62-47e9-929b-1b0be9...   technique   \n",
       "3  attack-pattern--df8b2a25-8bdf-4856-953c-a04372...   technique   \n",
       "4  attack-pattern--7bc57495-ea59-4380-be31-a64af1...   technique   \n",
       "\n",
       "                                 mapping description  \\\n",
       "0  [3PARA RAT](https://attack.mitre.org/software/...   \n",
       "1  [3PARA RAT](https://attack.mitre.org/software/...   \n",
       "2  [3PARA RAT](https://attack.mitre.org/software/...   \n",
       "3  [3PARA RAT](https://attack.mitre.org/software/...   \n",
       "4  [4H RAT](https://attack.mitre.org/software/S00...   \n",
       "\n",
       "                                             STIX ID    created last modified  \\\n",
       "0  relationship--7c0995ef-ab5d-48f9-8884-7d953c4c...  14-Dec-17     16-Mar-20   \n",
       "1  relationship--0e630f6b-8662-4ffe-b666-709e17aa...  14-Dec-17     30-Mar-20   \n",
       "2  relationship--d43315b0-d708-4197-b3ed-0a0b1199...  14-Dec-17     16-Mar-20   \n",
       "3  relationship--2d659138-90e5-4b67-8956-02120d99...  14-Dec-17     16-Mar-20   \n",
       "4  relationship--26968975-5f01-4b4b-9cdc-ef3b7671...  14-Dec-17     17-Mar-20   \n",
       "\n",
       "  ID_software name_software ID_technique  \\\n",
       "0       S0066     3PARA RAT        T1083   \n",
       "1       S0066     3PARA RAT    T1573.001   \n",
       "2       S0066     3PARA RAT    T1070.006   \n",
       "3       S0066     3PARA RAT    T1071.001   \n",
       "4       S0065        4H RAT        T1083   \n",
       "\n",
       "                              name_technique  \n",
       "0               File and Directory Discovery  \n",
       "1  Encrypted Channel: Symmetric Cryptography  \n",
       "2               Indicator Removal: Timestomp  \n",
       "3  Application Layer Protocol: Web Protocols  \n",
       "4               File and Directory Discovery  "
      ]
     },
     "execution_count": 26,
     "metadata": {},
     "output_type": "execute_result"
    }
   ],
   "source": [
    "# Load the Techniques and Software CSV file\n",
    "file_path_software = r\"data/Techniques_and_Software.csv\"\n",
    "techniques_software_df = pd.read_csv(file_path_software)\n",
    "\n",
    "# Preview the data\n",
    "techniques_software_df.head()"
   ]
  },
  {
   "cell_type": "code",
   "execution_count": 27,
   "id": "ccefc469-f316-4d13-9366-ce5bac868796",
   "metadata": {},
   "outputs": [
    {
     "data": {
      "text/plain": [
       "Index(['source ID', 'source name', 'source ref', 'source type', 'mapping type',\n",
       "       'target ID', 'target name', 'target ref', 'target type',\n",
       "       'mapping description', 'STIX ID', 'created', 'last modified',\n",
       "       'ID_software', 'name_software', 'ID_technique', 'name_technique'],\n",
       "      dtype='object')"
      ]
     },
     "execution_count": 27,
     "metadata": {},
     "output_type": "execute_result"
    }
   ],
   "source": [
    "# Check the columns in the dataframe\n",
    "techniques_software_df.columns"
   ]
  },
  {
   "cell_type": "code",
   "execution_count": 28,
   "id": "62cc1563-4f7e-4856-8405-b1532daef7dd",
   "metadata": {},
   "outputs": [
    {
     "data": {
      "application/vnd.plotly.v1+json": {
       "config": {
        "plotlyServerURL": "https://plot.ly"
       },
       "data": [
        {
         "alignmentgroup": "True",
         "hovertemplate": "Software=%{x}<br>Technique Count=%{y}<extra></extra>",
         "legendgroup": "",
         "marker": {
          "color": "#636efa",
          "pattern": {
           "shape": ""
          }
         },
         "name": "",
         "offsetgroup": "",
         "orientation": "v",
         "showlegend": false,
         "textposition": "auto",
         "type": "bar",
         "x": [
          "3PARA RAT",
          "4H RAT",
          "AADInternals",
          "ABK",
          "ADVSTORESHELL",
          "ANDROMEDA",
          "ASPXSpy",
          "AcidRain",
          "Action RAT",
          "AdFind",
          "Agent Tesla",
          "Agent.btz",
          "Akira",
          "Amadey",
          "Anchor",
          "AppleJeus",
          "AppleSeed",
          "Aria-body",
          "Arp",
          "Astaroth",
          "AsyncRAT",
          "Attor",
          "AuTo Stealer",
          "AuditCred",
          "AutoIt backdoor",
          "Avaddon",
          "Avenger",
          "AvosLocker",
          "Azorult",
          "BACKSPACE",
          "BADCALL",
          "BADFLICK",
          "BADHATCH",
          "BADNEWS",
          "BBK",
          "BBSRAT",
          "BISCUIT",
          "BITSAdmin",
          "BLACKCOFFEE",
          "BLINDINGCAN",
          "BLUELIGHT",
          "BONDUPDATER",
          "BOOSTWRITE",
          "BOOTRASH",
          "BS2005",
          "BUBBLEWRAP",
          "BUSHWALK",
          "Babuk",
          "BabyShark",
          "BackConfig",
          "Backdoor.Oldrea",
          "Bad Rabbit",
          "BadPatch",
          "Bandook",
          "Bankshot",
          "Bazar",
          "BendyBear",
          "Bisonal",
          "BitPaymer",
          "Black Basta",
          "BlackCat",
          "BlackEnergy",
          "BlackMould",
          "BloodHound",
          "Bonadan",
          "BoomBox",
          "BoxCaon",
          "Brave Prince",
          "Briba",
          "Brute Ratel C4",
          "Bumblebee",
          "Bundlore",
          "CALENDAR",
          "CARROTBALL",
          "CARROTBAT",
          "CCBkdr",
          "CHOPSTICK",
          "COATHANGER",
          "CORALDECK",
          "CORESHELL",
          "CSPY Downloader",
          "Cachedump",
          "CaddyWiper",
          "Cadelspy",
          "Calisto",
          "CallMe",
          "Cannon",
          "Carbanak",
          "Carberp",
          "Carbon",
          "Cardinal RAT",
          "Catchamas",
          "Caterpillar WebShell",
          "ChChes",
          "Chaes",
          "Chaos",
          "CharmPower",
          "Cheerscrypt",
          "Cherry Picker",
          "China Chopper",
          "Chinoxy",
          "Chrommme",
          "Clambling",
          "Clop",
          "CloudDuke",
          "Cobalt Strike",
          "Cobian RAT",
          "CoinTicker",
          "ComRAT",
          "Comnie",
          "Conficker",
          "ConnectWise",
          "Conti",
          "CookieMiner",
          "CosmicDuke",
          "CostaBricks",
          "CozyCar",
          "CrackMapExec",
          "CreepyDrive",
          "CreepySnail",
          "Crimson",
          "CrossRAT",
          "Crutch",
          "Cryptoistic",
          "Cuba",
          "Cyclops Blink",
          "DCSrv",
          "DDKONG",
          "DEADEYE",
          "DEATHRANSOM",
          "DOGCALL",
          "DRATzarus",
          "Dacls",
          "DanBot",
          "DarkComet",
          "DarkGate",
          "DarkTortilla",
          "DarkWatchman",
          "Daserf",
          "DealersChoice",
          "Denis",
          "Derusbi",
          "Diavol",
          "Dipsind",
          "Disco",
          "DnsSystem",
          "Dok",
          "Doki",
          "Donut",
          "DownPaper",
          "Downdelph",
          "Dridex",
          "DropBook",
          "Drovorub",
          "Dtrack",
          "Duqu",
          "DustySky",
          "Dyre",
          "ECCENTRICBANDWAGON",
          "EKANS",
          "ELMER",
          "EVILNUM",
          "Ebury",
          "Ecipekac",
          "Egregor",
          "Elise",
          "Emissary",
          "Emotet",
          "Empire",
          "EnvyScout",
          "Epic",
          "EvilBunny",
          "EvilGrab",
          "Exaramel for Linux",
          "Exaramel for Windows",
          "Expand",
          "Explosive",
          "FALLCHILL",
          "FELIXROOT",
          "FIVEHANDS",
          "FLASHFLOOD",
          "FLIPSIDE",
          "FRAMESTING",
          "FYAnti",
          "FakeM",
          "FatDuke",
          "Felismus",
          "Ferocious",
          "Fgdump",
          "FinFisher",
          "Final1stspy",
          "Flagpro",
          "Flame",
          "FlawedAmmyy",
          "FlawedGrace",
          "FoggyWeb",
          "Forfiles",
          "FrameworkPOS",
          "FruitFly",
          "FunnyDream",
          "Fysbis",
          "GLASSTOKEN",
          "GLOOXMAIL",
          "GRIFFON",
          "Gazer",
          "Gelsemium",
          "GeminiDuke",
          "Get2",
          "Gold Dragon",
          "GoldFinder",
          "GoldMax",
          "GoldenSpy",
          "Goopy",
          "Grandoreiro",
          "GravityRAT",
          "Green Lambert",
          "GreyEnergy",
          "GrimAgent",
          "GuLoader",
          "H1N1",
          "HALFBAKED",
          "HAMMERTOSS",
          "HAPPYWORK",
          "HARDRAIN",
          "HAWKBALL",
          "HDoor",
          "HELLOKITTY",
          "HIDEDRV",
          "HOMEFRY",
          "HOPLIGHT",
          "HTRAN",
          "HTTPBrowser",
          "HUI Loader",
          "Hacking Team UEFI Rootkit",
          "Hancitor",
          "Havij",
          "Helminth",
          "HermeticWiper",
          "HermeticWizard",
          "Heyoka Backdoor",
          "Hi-Zor",
          "HiddenWasp",
          "Hikit",
          "Hildegard",
          "HotCroissant",
          "Hydraq",
          "HyperBro",
          "HyperStack",
          "ISMInjector",
          "IceApple",
          "IcedID",
          "Imminent Monitor",
          "Impacket",
          "Industroyer",
          "Industroyer2",
          "InnaputRAT",
          "InvisiMole",
          "Invoke-PSImage",
          "IronNetInjector",
          "Ixeshe",
          "JCry",
          "JHUHUGIT",
          "JPIN",
          "JSS Loader",
          "Janicab",
          "Javali",
          "KARAE",
          "KEYMARBLE",
          "KEYPLUG",
          "KGH_SPY",
          "KOCTOPUS",
          "KOMPROGO",
          "KONNI",
          "KOPILUWAK",
          "Kasidet",
          "Kazuar",
          "Kerrdown",
          "Kessel",
          "Kevin",
          "KeyBoy",
          "Keydnap",
          "KillDisk",
          "Kinsing",
          "Kivars",
          "Koadic",
          "Kobalos",
          "Komplex",
          "Kwampirs",
          "LIGHTWIRE",
          "LITTLELAMB.WOOLTEA",
          "LOWBALL",
          "LaZagne",
          "LightNeuron",
          "Linfo",
          "Linux Rabbit",
          "LiteDuke",
          "LitePower",
          "Lizar",
          "LoFiSe",
          "LoJax",
          "LockerGoga",
          "Lokibot",
          "LookBack",
          "LoudMiner",
          "Lslsass",
          "Lucifer",
          "Lurid",
          "MCMD",
          "MESSAGETAP",
          "MURKYTOP",
          "MacMa",
          "MacSpy",
          "Machete",
          "Mafalda",
          "MailSniper",
          "MarkiRAT",
          "Matryoshka",
          "Maze",
          "MechaFlounder",
          "MegaCortex",
          "Melcoz",
          "Metamorfo",
          "Meteor",
          "Micropsia",
          "Milan",
          "MimiPenguin",
          "Mimikatz",
          "Miner-C",
          "MiniDuke",
          "MirageFox",
          "Mis-Type",
          "Misdat",
          "Mispadu",
          "Mivast",
          "MobileOrder",
          "MoleNet",
          "Mongall",
          "MoonWind",
          "More_eggs",
          "Mori",
          "Mosquito",
          "Mythic",
          "NBTscan",
          "NDiskMonitor",
          "NETEAGLE",
          "NETWIRE",
          "NGLite",
          "NKAbuse",
          "NOKKI",
          "Naid",
          "NanHaiShu",
          "NanoCore",
          "NativeZone",
          "NavRAT",
          "Nebulae",
          "Neoichor",
          "Nerex",
          "Net",
          "Net Crawler",
          "NetTraveler",
          "Netwalker",
          "Nidiran",
          "NightClub",
          "Ninja",
          "Nltest",
          "NotPetya",
          "OLDBAIT",
          "OSInfo",
          "OSX/Shlayer",
          "OSX_OCEANLOTUS.D",
          "ObliqueRAT",
          "OceanSalt",
          "Octopus",
          "Okrum",
          "Olympic Destroyer",
          "OnionDuke",
          "OopsIE",
          "Orz",
          "Out1",
          "OutSteel",
          "OwaAuth",
          "P.A.S. Webshell",
          "P2P ZeuS",
          "P8RAT",
          "PACEMAKER",
          "PHOREAL",
          "PITSTOP",
          "PLAINTEE",
          "PLEAD",
          "POORAIM",
          "POSHSPY",
          "POWERSOURCE",
          "POWERSTATS",
          "POWERTON",
          "POWRUNER",
          "PS1",
          "PULSECHECK",
          "PUNCHBUGGY",
          "PUNCHTRACK",
          "Pacu",
          "Pandora",
          "Pasam",
          "Pass-The-Hash Toolkit",
          "Pay2Key",
          "PcShare",
          "Pcexter",
          "Peirates",
          "Penquin",
          "Peppy",
          "Pillowmint",
          "PinchDuke",
          "Ping",
          "PingPull",
          "PipeMon",
          "Pisloader",
          "PlugX",
          "PoetRAT",
          "PoisonIvy",
          "PolyglotDuke",
          "Pony",
          "PoshC2",
          "PowGoop",
          "Power Loader",
          "PowerDuke",
          "PowerLess",
          "PowerPunch",
          "PowerShower",
          "PowerSploit",
          "PowerStallion",
          "Prestige",
          "Prikormka",
          "ProLock",
          "Proton",
          "Proxysvc",
          "PsExec",
          "Psylo",
          "Pteranodon",
          "Pupy",
          "PyDCrypt",
          "Pysa",
          "QUADAGENT",
          "QUIETCANARY",
          "QUIETEXIT",
          "QakBot",
          "QuasarRAT",
          "QuietSieve",
          "RAPIDPULSE",
          "RARSTONE",
          "RATANKBA",
          "RCSession",
          "RDAT",
          "RDFSNIFFER",
          "REvil",
          "RGDoor",
          "RIPTIDE",
          "ROADTools",
          "ROCKBOOT",
          "ROKRAT",
          "RTM",
          "Ragnar Locker",
          "Raindrop",
          "RainyDay",
          "Ramsay",
          "RawDisk",
          "RawPOS",
          "Rclone",
          "Reaver",
          "RedLeaves",
          "Reg",
          "RegDuke",
          "Regin",
          "Remcos",
          "Remexi",
          "RemoteCMD",
          "RemoteUtilities",
          "Remsec",
          "Responder",
          "Revenge RAT",
          "Rifdoor",
          "Rising Sun",
          "RobbinHood",
          "RogueRobin",
          "RotaJakiro",
          "Rover",
          "Royal",
          "Rubeus",
          "Ruler",
          "RunningRAT",
          "Ryuk",
          "S-Type",
          "SDBbot",
          "SDelete",
          "SEASHARPEE",
          "SHARPSTATS",
          "SHIPSHAPE",
          "SHOTPUT",
          "SHUTTERSPEED",
          "SILENTTRINITY",
          "SLIGHTPULSE",
          "SLOTHFULMEDIA",
          "SLOWDRIFT",
          "SLOWPULSE",
          "SMOKEDHAM",
          "SNUGRIDE",
          "SOUNDBITE",
          "SPACESHIP",
          "SQLRat",
          "STARWHALE",
          "STEADYPULSE",
          "SUGARDUMP",
          "SUGARUSH",
          "SUNBURST",
          "SUNSPOT",
          "SUPERNOVA",
          "SVCReady",
          "SYNful Knock",
          "SYSCON",
          "Saint Bot",
          "Sakula",
          "SamSam",
          "Samurai",
          "Sardonic",
          "SeaDuke",
          "Seasalt",
          "ServHelper",
          "Seth-Locker",
          "ShadowPad",
          "Shamoon",
          "Shark",
          "SharpDisco",
          "SharpStage",
          "ShimRat",
          "ShimRatReporter",
          "Sibot",
          "SideTwist",
          "Siloscape",
          "Skeleton Key",
          "Skidmap",
          "Sliver",
          "Small Sieve",
          "Smoke Loader",
          "Snip3",
          "SocGholish",
          "Socksbot",
          "SodaMaster",
          "SombRAT",
          "SoreFang",
          "Spark",
          "SpeakUp",
          "SpicyOmelette",
          "Squirrelwaffle",
          "SslMM",
          "Starloader",
          "StoneDrill",
          "StreamEx",
          "StrifeWater",
          "StrongPity",
          "Stuxnet",
          "Sykipot",
          "SynAck",
          "Sys10",
          "SysUpdate",
          "Systeminfo",
          "T9000",
          "TAINTEDSCRIBE",
          "TDTESS",
          "TEARDROP",
          "TEXTMATE",
          "TINYTYPHON",
          "TSCookie",
          "TURNEDUP",
          "TYPEFRAME",
          "Taidoor",
          "TajMahal",
          "Tarrask",
          "Tasklist",
          "ThiefQuest",
          "ThreatNeedle",
          "TinyTurla",
          "TinyZBot",
          "Tomiris",
          "Tor",
          "Torisma",
          "TrailBlazer",
          "TrickBot",
          "Trojan.Karagany",
          "Trojan.Mebromi",
          "Truvasys",
          "Turian",
          "UACMe",
          "UBoatRAT",
          "UPPERCUT",
          "USBStealer",
          "USBferry",
          "Umbreon",
          "Unknown Logger",
          "Uroburos",
          "Ursnif",
          "VBShower",
          "VERMIN",
          "Valak",
          "VaporRage",
          "Vasport",
          "Volgmer",
          "WARPWIRE",
          "WEBC2",
          "WINDSHIELD",
          "WINERACK",
          "WIREFIRE",
          "WannaCry",
          "WarzoneRAT",
          "WastedLocker",
          "Waterbear",
          "WellMail",
          "WellMess",
          "Wevtutil",
          "WhisperGate",
          "Wiarp",
          "WinMM",
          "WindTail",
          "Windows Credential Editor",
          "Winexe",
          "Wingbird",
          "Winnti for Linux",
          "Winnti for Windows",
          "Wiper",
          "Woody RAT",
          "XAgentOSX",
          "XCSSET",
          "XTunnel",
          "Xbash",
          "YAHOYAH",
          "ZIPLINE",
          "ZLib",
          "Zebrocy",
          "ZeroT",
          "Zeroaccess",
          "Zeus Panda",
          "Zox",
          "ZxShell",
          "ZxxZ",
          "adbupd",
          "at",
          "build_downer",
          "ccf32",
          "certutil",
          "cmd",
          "down_new",
          "dsquery",
          "esentutl",
          "ftp",
          "gh0st RAT",
          "gsecdump",
          "hcdLoader",
          "httpclient",
          "iKitten",
          "ifconfig",
          "ipconfig",
          "jRAT",
          "macOS.OSAMiner",
          "meek",
          "metaMain",
          "nbtstat",
          "netsh",
          "netstat",
          "ngrok",
          "njRAT",
          "pngdowner",
          "pwdump",
          "route",
          "schtasks",
          "spwebmember",
          "sqlmap",
          "xCaon",
          "xCmd",
          "yty",
          "zwShell"
         ],
         "xaxis": "x",
         "y": [
          4,
          6,
          24,
          7,
          23,
          7,
          1,
          4,
          12,
          5,
          37,
          6,
          10,
          17,
          20,
          20,
          32,
          23,
          2,
          36,
          13,
          35,
          10,
          9,
          4,
          17,
          11,
          15,
          16,
          14,
          8,
          10,
          35,
          24,
          7,
          14,
          10,
          4,
          7,
          21,
          19,
          7,
          5,
          2,
          1,
          3,
          6,
          14,
          15,
          16,
          16,
          15,
          12,
          26,
          24,
          51,
          10,
          34,
          18,
          23,
          20,
          25,
          6,
          12,
          9,
          16,
          12,
          7,
          4,
          33,
          39,
          23,
          2,
          4,
          6,
          2,
          19,
          18,
          3,
          10,
          12,
          1,
          7,
          8,
          15,
          4,
          10,
          18,
          25,
          18,
          22,
          9,
          15,
          12,
          28,
          5,
          24,
          3,
          3,
          10,
          5,
          13,
          34,
          17,
          3,
          72,
          8,
          9,
          22,
          19,
          13,
          3,
          16,
          14,
          19,
          6,
          14,
          20,
          8,
          7,
          29,
          5,
          15,
          7,
          23,
          21,
          8,
          4,
          13,
          9,
          6,
          13,
          9,
          14,
          18,
          50,
          28,
          34,
          16,
          3,
          20,
          18,
          19,
          7,
          5,
          9,
          11,
          14,
          15,
          7,
          5,
          15,
          9,
          12,
          23,
          21,
          19,
          16,
          6,
          9,
          3,
          14,
          20,
          5,
          25,
          19,
          15,
          42,
          72,
          14,
          21,
          14,
          5,
          12,
          8,
          3,
          12,
          8,
          18,
          8,
          6,
          1,
          7,
          4,
          4,
          21,
          10,
          9,
          1,
          23,
          6,
          24,
          9,
          22,
          1,
          21,
          3,
          5,
          7,
          37,
          12,
          4,
          1,
          8,
          17,
          33,
          6,
          6,
          14,
          3,
          18,
          15,
          18,
          42,
          19,
          18,
          17,
          24,
          12,
          13,
          6,
          7,
          3,
          5,
          11,
          2,
          6,
          2,
          3,
          20,
          3,
          12,
          3,
          2,
          13,
          1,
          21,
          25,
          16,
          15,
          9,
          10,
          11,
          27,
          20,
          19,
          12,
          6,
          4,
          19,
          19,
          16,
          9,
          19,
          1,
          10,
          72,
          2,
          8,
          15,
          7,
          20,
          20,
          7,
          4,
          12,
          4,
          10,
          8,
          20,
          20,
          3,
          39,
          13,
          10,
          30,
          10,
          14,
          21,
          18,
          9,
          15,
          17,
          7,
          27,
          15,
          7,
          22,
          5,
          7,
          3,
          10,
          22,
          9,
          6,
          13,
          11,
          22,
          6,
          5,
          7,
          28,
          16,
          18,
          1,
          24,
          2,
          10,
          8,
          9,
          25,
          9,
          41,
          35,
          3,
          22,
          10,
          23,
          8,
          16,
          12,
          46,
          20,
          16,
          20,
          1,
          17,
          1,
          9,
          5,
          18,
          16,
          26,
          4,
          7,
          7,
          14,
          15,
          15,
          9,
          17,
          13,
          5,
          5,
          11,
          45,
          5,
          8,
          15,
          4,
          12,
          13,
          6,
          9,
          15,
          11,
          4,
          15,
          4,
          2,
          18,
          3,
          21,
          26,
          3,
          14,
          6,
          10,
          15,
          28,
          14,
          8,
          18,
          33,
          14,
          5,
          19,
          13,
          5,
          14,
          8,
          15,
          1,
          5,
          6,
          3,
          5,
          9,
          15,
          6,
          8,
          6,
          27,
          6,
          20,
          5,
          4,
          17,
          3,
          21,
          13,
          7,
          1,
          8,
          20,
          4,
          12,
          17,
          7,
          14,
          7,
          1,
          15,
          23,
          9,
          27,
          35,
          14,
          10,
          15,
          32,
          8,
          1,
          15,
          9,
          4,
          14,
          28,
          5,
          9,
          20,
          7,
          15,
          14,
          5,
          5,
          17,
          41,
          11,
          16,
          17,
          9,
          5,
          71,
          24,
          9,
          4,
          4,
          15,
          22,
          20,
          3,
          33,
          7,
          2,
          6,
          1,
          30,
          37,
          13,
          7,
          25,
          39,
          3,
          5,
          6,
          13,
          17,
          3,
          9,
          11,
          16,
          16,
          3,
          4,
          29,
          2,
          18,
          9,
          19,
          6,
          18,
          17,
          10,
          13,
          5,
          4,
          9,
          22,
          20,
          24,
          2,
          4,
          7,
          3,
          6,
          3,
          47,
          9,
          23,
          3,
          6,
          21,
          4,
          5,
          6,
          8,
          14,
          5,
          13,
          5,
          35,
          11,
          5,
          24,
          3,
          5,
          36,
          11,
          5,
          18,
          24,
          15,
          10,
          14,
          3,
          20,
          24,
          17,
          11,
          11,
          21,
          16,
          18,
          15,
          14,
          1,
          16,
          15,
          13,
          14,
          20,
          18,
          5,
          11,
          24,
          13,
          10,
          15,
          11,
          21,
          9,
          2,
          15,
          9,
          15,
          26,
          44,
          11,
          14,
          6,
          30,
          1,
          13,
          16,
          5,
          6,
          2,
          4,
          13,
          6,
          15,
          20,
          24,
          7,
          3,
          18,
          13,
          14,
          8,
          8,
          2,
          13,
          5,
          55,
          22,
          1,
          2,
          18,
          1,
          8,
          10,
          14,
          11,
          5,
          8,
          36,
          35,
          5,
          17,
          34,
          4,
          4,
          19,
          5,
          3,
          5,
          7,
          7,
          16,
          30,
          20,
          14,
          9,
          15,
          3,
          28,
          4,
          6,
          14,
          1,
          1,
          9,
          8,
          21,
          1,
          29,
          10,
          29,
          8,
          16,
          6,
          9,
          11,
          30,
          13,
          2,
          23,
          9,
          34,
          14,
          3,
          1,
          8,
          12,
          4,
          6,
          10,
          4,
          6,
          3,
          24,
          2,
          2,
          3,
          7,
          1,
          1,
          28,
          10,
          1,
          28,
          2,
          4,
          1,
          5,
          31,
          3,
          1,
          1,
          1,
          1,
          1,
          11,
          1,
          14,
          11
         ],
         "yaxis": "y"
        }
       ],
       "layout": {
        "autosize": true,
        "barmode": "relative",
        "legend": {
         "tracegroupgap": 0
        },
        "template": {
         "data": {
          "bar": [
           {
            "error_x": {
             "color": "#2a3f5f"
            },
            "error_y": {
             "color": "#2a3f5f"
            },
            "marker": {
             "line": {
              "color": "#E5ECF6",
              "width": 0.5
             },
             "pattern": {
              "fillmode": "overlay",
              "size": 10,
              "solidity": 0.2
             }
            },
            "type": "bar"
           }
          ],
          "barpolar": [
           {
            "marker": {
             "line": {
              "color": "#E5ECF6",
              "width": 0.5
             },
             "pattern": {
              "fillmode": "overlay",
              "size": 10,
              "solidity": 0.2
             }
            },
            "type": "barpolar"
           }
          ],
          "carpet": [
           {
            "aaxis": {
             "endlinecolor": "#2a3f5f",
             "gridcolor": "white",
             "linecolor": "white",
             "minorgridcolor": "white",
             "startlinecolor": "#2a3f5f"
            },
            "baxis": {
             "endlinecolor": "#2a3f5f",
             "gridcolor": "white",
             "linecolor": "white",
             "minorgridcolor": "white",
             "startlinecolor": "#2a3f5f"
            },
            "type": "carpet"
           }
          ],
          "choropleth": [
           {
            "colorbar": {
             "outlinewidth": 0,
             "ticks": ""
            },
            "type": "choropleth"
           }
          ],
          "contour": [
           {
            "colorbar": {
             "outlinewidth": 0,
             "ticks": ""
            },
            "colorscale": [
             [
              0,
              "#0d0887"
             ],
             [
              0.1111111111111111,
              "#46039f"
             ],
             [
              0.2222222222222222,
              "#7201a8"
             ],
             [
              0.3333333333333333,
              "#9c179e"
             ],
             [
              0.4444444444444444,
              "#bd3786"
             ],
             [
              0.5555555555555556,
              "#d8576b"
             ],
             [
              0.6666666666666666,
              "#ed7953"
             ],
             [
              0.7777777777777778,
              "#fb9f3a"
             ],
             [
              0.8888888888888888,
              "#fdca26"
             ],
             [
              1,
              "#f0f921"
             ]
            ],
            "type": "contour"
           }
          ],
          "contourcarpet": [
           {
            "colorbar": {
             "outlinewidth": 0,
             "ticks": ""
            },
            "type": "contourcarpet"
           }
          ],
          "heatmap": [
           {
            "colorbar": {
             "outlinewidth": 0,
             "ticks": ""
            },
            "colorscale": [
             [
              0,
              "#0d0887"
             ],
             [
              0.1111111111111111,
              "#46039f"
             ],
             [
              0.2222222222222222,
              "#7201a8"
             ],
             [
              0.3333333333333333,
              "#9c179e"
             ],
             [
              0.4444444444444444,
              "#bd3786"
             ],
             [
              0.5555555555555556,
              "#d8576b"
             ],
             [
              0.6666666666666666,
              "#ed7953"
             ],
             [
              0.7777777777777778,
              "#fb9f3a"
             ],
             [
              0.8888888888888888,
              "#fdca26"
             ],
             [
              1,
              "#f0f921"
             ]
            ],
            "type": "heatmap"
           }
          ],
          "heatmapgl": [
           {
            "colorbar": {
             "outlinewidth": 0,
             "ticks": ""
            },
            "colorscale": [
             [
              0,
              "#0d0887"
             ],
             [
              0.1111111111111111,
              "#46039f"
             ],
             [
              0.2222222222222222,
              "#7201a8"
             ],
             [
              0.3333333333333333,
              "#9c179e"
             ],
             [
              0.4444444444444444,
              "#bd3786"
             ],
             [
              0.5555555555555556,
              "#d8576b"
             ],
             [
              0.6666666666666666,
              "#ed7953"
             ],
             [
              0.7777777777777778,
              "#fb9f3a"
             ],
             [
              0.8888888888888888,
              "#fdca26"
             ],
             [
              1,
              "#f0f921"
             ]
            ],
            "type": "heatmapgl"
           }
          ],
          "histogram": [
           {
            "marker": {
             "pattern": {
              "fillmode": "overlay",
              "size": 10,
              "solidity": 0.2
             }
            },
            "type": "histogram"
           }
          ],
          "histogram2d": [
           {
            "colorbar": {
             "outlinewidth": 0,
             "ticks": ""
            },
            "colorscale": [
             [
              0,
              "#0d0887"
             ],
             [
              0.1111111111111111,
              "#46039f"
             ],
             [
              0.2222222222222222,
              "#7201a8"
             ],
             [
              0.3333333333333333,
              "#9c179e"
             ],
             [
              0.4444444444444444,
              "#bd3786"
             ],
             [
              0.5555555555555556,
              "#d8576b"
             ],
             [
              0.6666666666666666,
              "#ed7953"
             ],
             [
              0.7777777777777778,
              "#fb9f3a"
             ],
             [
              0.8888888888888888,
              "#fdca26"
             ],
             [
              1,
              "#f0f921"
             ]
            ],
            "type": "histogram2d"
           }
          ],
          "histogram2dcontour": [
           {
            "colorbar": {
             "outlinewidth": 0,
             "ticks": ""
            },
            "colorscale": [
             [
              0,
              "#0d0887"
             ],
             [
              0.1111111111111111,
              "#46039f"
             ],
             [
              0.2222222222222222,
              "#7201a8"
             ],
             [
              0.3333333333333333,
              "#9c179e"
             ],
             [
              0.4444444444444444,
              "#bd3786"
             ],
             [
              0.5555555555555556,
              "#d8576b"
             ],
             [
              0.6666666666666666,
              "#ed7953"
             ],
             [
              0.7777777777777778,
              "#fb9f3a"
             ],
             [
              0.8888888888888888,
              "#fdca26"
             ],
             [
              1,
              "#f0f921"
             ]
            ],
            "type": "histogram2dcontour"
           }
          ],
          "mesh3d": [
           {
            "colorbar": {
             "outlinewidth": 0,
             "ticks": ""
            },
            "type": "mesh3d"
           }
          ],
          "parcoords": [
           {
            "line": {
             "colorbar": {
              "outlinewidth": 0,
              "ticks": ""
             }
            },
            "type": "parcoords"
           }
          ],
          "pie": [
           {
            "automargin": true,
            "type": "pie"
           }
          ],
          "scatter": [
           {
            "fillpattern": {
             "fillmode": "overlay",
             "size": 10,
             "solidity": 0.2
            },
            "type": "scatter"
           }
          ],
          "scatter3d": [
           {
            "line": {
             "colorbar": {
              "outlinewidth": 0,
              "ticks": ""
             }
            },
            "marker": {
             "colorbar": {
              "outlinewidth": 0,
              "ticks": ""
             }
            },
            "type": "scatter3d"
           }
          ],
          "scattercarpet": [
           {
            "marker": {
             "colorbar": {
              "outlinewidth": 0,
              "ticks": ""
             }
            },
            "type": "scattercarpet"
           }
          ],
          "scattergeo": [
           {
            "marker": {
             "colorbar": {
              "outlinewidth": 0,
              "ticks": ""
             }
            },
            "type": "scattergeo"
           }
          ],
          "scattergl": [
           {
            "marker": {
             "colorbar": {
              "outlinewidth": 0,
              "ticks": ""
             }
            },
            "type": "scattergl"
           }
          ],
          "scattermapbox": [
           {
            "marker": {
             "colorbar": {
              "outlinewidth": 0,
              "ticks": ""
             }
            },
            "type": "scattermapbox"
           }
          ],
          "scatterpolar": [
           {
            "marker": {
             "colorbar": {
              "outlinewidth": 0,
              "ticks": ""
             }
            },
            "type": "scatterpolar"
           }
          ],
          "scatterpolargl": [
           {
            "marker": {
             "colorbar": {
              "outlinewidth": 0,
              "ticks": ""
             }
            },
            "type": "scatterpolargl"
           }
          ],
          "scatterternary": [
           {
            "marker": {
             "colorbar": {
              "outlinewidth": 0,
              "ticks": ""
             }
            },
            "type": "scatterternary"
           }
          ],
          "surface": [
           {
            "colorbar": {
             "outlinewidth": 0,
             "ticks": ""
            },
            "colorscale": [
             [
              0,
              "#0d0887"
             ],
             [
              0.1111111111111111,
              "#46039f"
             ],
             [
              0.2222222222222222,
              "#7201a8"
             ],
             [
              0.3333333333333333,
              "#9c179e"
             ],
             [
              0.4444444444444444,
              "#bd3786"
             ],
             [
              0.5555555555555556,
              "#d8576b"
             ],
             [
              0.6666666666666666,
              "#ed7953"
             ],
             [
              0.7777777777777778,
              "#fb9f3a"
             ],
             [
              0.8888888888888888,
              "#fdca26"
             ],
             [
              1,
              "#f0f921"
             ]
            ],
            "type": "surface"
           }
          ],
          "table": [
           {
            "cells": {
             "fill": {
              "color": "#EBF0F8"
             },
             "line": {
              "color": "white"
             }
            },
            "header": {
             "fill": {
              "color": "#C8D4E3"
             },
             "line": {
              "color": "white"
             }
            },
            "type": "table"
           }
          ]
         },
         "layout": {
          "annotationdefaults": {
           "arrowcolor": "#2a3f5f",
           "arrowhead": 0,
           "arrowwidth": 1
          },
          "autotypenumbers": "strict",
          "coloraxis": {
           "colorbar": {
            "outlinewidth": 0,
            "ticks": ""
           }
          },
          "colorscale": {
           "diverging": [
            [
             0,
             "#8e0152"
            ],
            [
             0.1,
             "#c51b7d"
            ],
            [
             0.2,
             "#de77ae"
            ],
            [
             0.3,
             "#f1b6da"
            ],
            [
             0.4,
             "#fde0ef"
            ],
            [
             0.5,
             "#f7f7f7"
            ],
            [
             0.6,
             "#e6f5d0"
            ],
            [
             0.7,
             "#b8e186"
            ],
            [
             0.8,
             "#7fbc41"
            ],
            [
             0.9,
             "#4d9221"
            ],
            [
             1,
             "#276419"
            ]
           ],
           "sequential": [
            [
             0,
             "#0d0887"
            ],
            [
             0.1111111111111111,
             "#46039f"
            ],
            [
             0.2222222222222222,
             "#7201a8"
            ],
            [
             0.3333333333333333,
             "#9c179e"
            ],
            [
             0.4444444444444444,
             "#bd3786"
            ],
            [
             0.5555555555555556,
             "#d8576b"
            ],
            [
             0.6666666666666666,
             "#ed7953"
            ],
            [
             0.7777777777777778,
             "#fb9f3a"
            ],
            [
             0.8888888888888888,
             "#fdca26"
            ],
            [
             1,
             "#f0f921"
            ]
           ],
           "sequentialminus": [
            [
             0,
             "#0d0887"
            ],
            [
             0.1111111111111111,
             "#46039f"
            ],
            [
             0.2222222222222222,
             "#7201a8"
            ],
            [
             0.3333333333333333,
             "#9c179e"
            ],
            [
             0.4444444444444444,
             "#bd3786"
            ],
            [
             0.5555555555555556,
             "#d8576b"
            ],
            [
             0.6666666666666666,
             "#ed7953"
            ],
            [
             0.7777777777777778,
             "#fb9f3a"
            ],
            [
             0.8888888888888888,
             "#fdca26"
            ],
            [
             1,
             "#f0f921"
            ]
           ]
          },
          "colorway": [
           "#636efa",
           "#EF553B",
           "#00cc96",
           "#ab63fa",
           "#FFA15A",
           "#19d3f3",
           "#FF6692",
           "#B6E880",
           "#FF97FF",
           "#FECB52"
          ],
          "font": {
           "color": "#2a3f5f"
          },
          "geo": {
           "bgcolor": "white",
           "lakecolor": "white",
           "landcolor": "#E5ECF6",
           "showlakes": true,
           "showland": true,
           "subunitcolor": "white"
          },
          "hoverlabel": {
           "align": "left"
          },
          "hovermode": "closest",
          "mapbox": {
           "style": "light"
          },
          "paper_bgcolor": "white",
          "plot_bgcolor": "#E5ECF6",
          "polar": {
           "angularaxis": {
            "gridcolor": "white",
            "linecolor": "white",
            "ticks": ""
           },
           "bgcolor": "#E5ECF6",
           "radialaxis": {
            "gridcolor": "white",
            "linecolor": "white",
            "ticks": ""
           }
          },
          "scene": {
           "xaxis": {
            "backgroundcolor": "#E5ECF6",
            "gridcolor": "white",
            "gridwidth": 2,
            "linecolor": "white",
            "showbackground": true,
            "ticks": "",
            "zerolinecolor": "white"
           },
           "yaxis": {
            "backgroundcolor": "#E5ECF6",
            "gridcolor": "white",
            "gridwidth": 2,
            "linecolor": "white",
            "showbackground": true,
            "ticks": "",
            "zerolinecolor": "white"
           },
           "zaxis": {
            "backgroundcolor": "#E5ECF6",
            "gridcolor": "white",
            "gridwidth": 2,
            "linecolor": "white",
            "showbackground": true,
            "ticks": "",
            "zerolinecolor": "white"
           }
          },
          "shapedefaults": {
           "line": {
            "color": "#2a3f5f"
           }
          },
          "ternary": {
           "aaxis": {
            "gridcolor": "white",
            "linecolor": "white",
            "ticks": ""
           },
           "baxis": {
            "gridcolor": "white",
            "linecolor": "white",
            "ticks": ""
           },
           "bgcolor": "#E5ECF6",
           "caxis": {
            "gridcolor": "white",
            "linecolor": "white",
            "ticks": ""
           }
          },
          "title": {
           "x": 0.05
          },
          "xaxis": {
           "automargin": true,
           "gridcolor": "white",
           "linecolor": "white",
           "ticks": "",
           "title": {
            "standoff": 15
           },
           "zerolinecolor": "white",
           "zerolinewidth": 2
          },
          "yaxis": {
           "automargin": true,
           "gridcolor": "white",
           "linecolor": "white",
           "ticks": "",
           "title": {
            "standoff": 15
           },
           "zerolinecolor": "white",
           "zerolinewidth": 2
          }
         }
        },
        "title": {
         "text": "Techniques used by each Software"
        },
        "xaxis": {
         "anchor": "y",
         "autorange": true,
         "domain": [
          0,
          1
         ],
         "range": [
          -0.5,
          676.5
         ],
         "title": {
          "text": "Software"
         },
         "type": "category"
        },
        "yaxis": {
         "anchor": "x",
         "autorange": true,
         "domain": [
          0,
          1
         ],
         "range": [
          0,
          75.78947368421052
         ],
         "title": {
          "text": "Technique Count"
         },
         "type": "linear"
        }
       }
      },
      "image/png": "[encoded data removed]",
      "text/html": [
       "<div>                            <div id=\"ec7347c0-d9a2-4d06-8b82-4faea084baee\" class=\"plotly-graph-div\" style=\"height:525px; width:100%;\"></div>            <script type=\"text/javascript\">                require([\"plotly\"], function(Plotly) {                    window.PLOTLYENV=window.PLOTLYENV || {};                                    if (document.getElementById(\"ec7347c0-d9a2-4d06-8b82-4faea084baee\")) {                    Plotly.newPlot(                        \"ec7347c0-d9a2-4d06-8b82-4faea084baee\",                        [{\"alignmentgroup\":\"True\",\"hovertemplate\":\"Software=%{x}\\u003cbr\\u003eTechnique Count=%{y}\\u003cextra\\u003e\\u003c\\u002fextra\\u003e\",\"legendgroup\":\"\",\"marker\":{\"color\":\"#636efa\",\"pattern\":{\"shape\":\"\"}},\"name\":\"\",\"offsetgroup\":\"\",\"orientation\":\"v\",\"showlegend\":false,\"textposition\":\"auto\",\"x\":[\"3PARA RAT\",\"4H RAT\",\"AADInternals\",\"ABK\",\"ADVSTORESHELL\",\"ANDROMEDA\",\"ASPXSpy\",\"AcidRain\",\"Action RAT\",\"AdFind\",\"Agent Tesla\",\"Agent.btz\",\"Akira\",\"Amadey\",\"Anchor\",\"AppleJeus\",\"AppleSeed\",\"Aria-body\",\"Arp\",\"Astaroth\",\"AsyncRAT\",\"Attor\",\"AuTo Stealer\",\"AuditCred\",\"AutoIt backdoor\",\"Avaddon\",\"Avenger\",\"AvosLocker\",\"Azorult\",\"BACKSPACE\",\"BADCALL\",\"BADFLICK\",\"BADHATCH\",\"BADNEWS\",\"BBK\",\"BBSRAT\",\"BISCUIT\",\"BITSAdmin\",\"BLACKCOFFEE\",\"BLINDINGCAN\",\"BLUELIGHT\",\"BONDUPDATER\",\"BOOSTWRITE\",\"BOOTRASH\",\"BS2005\",\"BUBBLEWRAP\",\"BUSHWALK\",\"Babuk\",\"BabyShark\",\"BackConfig\",\"Backdoor.Oldrea\",\"Bad Rabbit\",\"BadPatch\",\"Bandook\",\"Bankshot\",\"Bazar\",\"BendyBear\",\"Bisonal\",\"BitPaymer\",\"Black Basta\",\"BlackCat\",\"BlackEnergy\",\"BlackMould\",\"BloodHound\",\"Bonadan\",\"BoomBox\",\"BoxCaon\",\"Brave Prince\",\"Briba\",\"Brute Ratel C4\",\"Bumblebee\",\"Bundlore\",\"CALENDAR\",\"CARROTBALL\",\"CARROTBAT\",\"CCBkdr\",\"CHOPSTICK\",\"COATHANGER\",\"CORALDECK\",\"CORESHELL\",\"CSPY Downloader\",\"Cachedump\",\"CaddyWiper\",\"Cadelspy\",\"Calisto\",\"CallMe\",\"Cannon\",\"Carbanak\",\"Carberp\",\"Carbon\",\"Cardinal RAT\",\"Catchamas\",\"Caterpillar WebShell\",\"ChChes\",\"Chaes\",\"Chaos\",\"CharmPower\",\"Cheerscrypt\",\"Cherry Picker\",\"China Chopper\",\"Chinoxy\",\"Chrommme\",\"Clambling\",\"Clop\",\"CloudDuke\",\"Cobalt Strike\",\"Cobian RAT\",\"CoinTicker\",\"ComRAT\",\"Comnie\",\"Conficker\",\"ConnectWise\",\"Conti\",\"CookieMiner\",\"CosmicDuke\",\"CostaBricks\",\"CozyCar\",\"CrackMapExec\",\"CreepyDrive\",\"CreepySnail\",\"Crimson\",\"CrossRAT\",\"Crutch\",\"Cryptoistic\",\"Cuba\",\"Cyclops Blink\",\"DCSrv\",\"DDKONG\",\"DEADEYE\",\"DEATHRANSOM\",\"DOGCALL\",\"DRATzarus\",\"Dacls\",\"DanBot\",\"DarkComet\",\"DarkGate\",\"DarkTortilla\",\"DarkWatchman\",\"Daserf\",\"DealersChoice\",\"Denis\",\"Derusbi\",\"Diavol\",\"Dipsind\",\"Disco\",\"DnsSystem\",\"Dok\",\"Doki\",\"Donut\",\"DownPaper\",\"Downdelph\",\"Dridex\",\"DropBook\",\"Drovorub\",\"Dtrack\",\"Duqu\",\"DustySky\",\"Dyre\",\"ECCENTRICBANDWAGON\",\"EKANS\",\"ELMER\",\"EVILNUM\",\"Ebury\",\"Ecipekac\",\"Egregor\",\"Elise\",\"Emissary\",\"Emotet\",\"Empire\",\"EnvyScout\",\"Epic\",\"EvilBunny\",\"EvilGrab\",\"Exaramel for Linux\",\"Exaramel for Windows\",\"Expand\",\"Explosive\",\"FALLCHILL\",\"FELIXROOT\",\"FIVEHANDS\",\"FLASHFLOOD\",\"FLIPSIDE\",\"FRAMESTING\",\"FYAnti\",\"FakeM\",\"FatDuke\",\"Felismus\",\"Ferocious\",\"Fgdump\",\"FinFisher\",\"Final1stspy\",\"Flagpro\",\"Flame\",\"FlawedAmmyy\",\"FlawedGrace\",\"FoggyWeb\",\"Forfiles\",\"FrameworkPOS\",\"FruitFly\",\"FunnyDream\",\"Fysbis\",\"GLASSTOKEN\",\"GLOOXMAIL\",\"GRIFFON\",\"Gazer\",\"Gelsemium\",\"GeminiDuke\",\"Get2\",\"Gold Dragon\",\"GoldFinder\",\"GoldMax\",\"GoldenSpy\",\"Goopy\",\"Grandoreiro\",\"GravityRAT\",\"Green Lambert\",\"GreyEnergy\",\"GrimAgent\",\"GuLoader\",\"H1N1\",\"HALFBAKED\",\"HAMMERTOSS\",\"HAPPYWORK\",\"HARDRAIN\",\"HAWKBALL\",\"HDoor\",\"HELLOKITTY\",\"HIDEDRV\",\"HOMEFRY\",\"HOPLIGHT\",\"HTRAN\",\"HTTPBrowser\",\"HUI Loader\",\"Hacking Team UEFI Rootkit\",\"Hancitor\",\"Havij\",\"Helminth\",\"HermeticWiper\",\"HermeticWizard\",\"Heyoka Backdoor\",\"Hi-Zor\",\"HiddenWasp\",\"Hikit\",\"Hildegard\",\"HotCroissant\",\"Hydraq\",\"HyperBro\",\"HyperStack\",\"ISMInjector\",\"IceApple\",\"IcedID\",\"Imminent Monitor\",\"Impacket\",\"Industroyer\",\"Industroyer2\",\"InnaputRAT\",\"InvisiMole\",\"Invoke-PSImage\",\"IronNetInjector\",\"Ixeshe\",\"JCry\",\"JHUHUGIT\",\"JPIN\",\"JSS Loader\",\"Janicab\",\"Javali\",\"KARAE\",\"KEYMARBLE\",\"KEYPLUG\",\"KGH_SPY\",\"KOCTOPUS\",\"KOMPROGO\",\"KONNI\",\"KOPILUWAK\",\"Kasidet\",\"Kazuar\",\"Kerrdown\",\"Kessel\",\"Kevin\",\"KeyBoy\",\"Keydnap\",\"KillDisk\",\"Kinsing\",\"Kivars\",\"Koadic\",\"Kobalos\",\"Komplex\",\"Kwampirs\",\"LIGHTWIRE\",\"LITTLELAMB.WOOLTEA\",\"LOWBALL\",\"LaZagne\",\"LightNeuron\",\"Linfo\",\"Linux Rabbit\",\"LiteDuke\",\"LitePower\",\"Lizar\",\"LoFiSe\",\"LoJax\",\"LockerGoga\",\"Lokibot\",\"LookBack\",\"LoudMiner\",\"Lslsass\",\"Lucifer\",\"Lurid\",\"MCMD\",\"MESSAGETAP\",\"MURKYTOP\",\"MacMa\",\"MacSpy\",\"Machete\",\"Mafalda\",\"MailSniper\",\"MarkiRAT\",\"Matryoshka\",\"Maze\",\"MechaFlounder\",\"MegaCortex\",\"Melcoz\",\"Metamorfo\",\"Meteor\",\"Micropsia\",\"Milan\",\"MimiPenguin\",\"Mimikatz\",\"Miner-C\",\"MiniDuke\",\"MirageFox\",\"Mis-Type\",\"Misdat\",\"Mispadu\",\"Mivast\",\"MobileOrder\",\"MoleNet\",\"Mongall\",\"MoonWind\",\"More_eggs\",\"Mori\",\"Mosquito\",\"Mythic\",\"NBTscan\",\"NDiskMonitor\",\"NETEAGLE\",\"NETWIRE\",\"NGLite\",\"NKAbuse\",\"NOKKI\",\"Naid\",\"NanHaiShu\",\"NanoCore\",\"NativeZone\",\"NavRAT\",\"Nebulae\",\"Neoichor\",\"Nerex\",\"Net\",\"Net Crawler\",\"NetTraveler\",\"Netwalker\",\"Nidiran\",\"NightClub\",\"Ninja\",\"Nltest\",\"NotPetya\",\"OLDBAIT\",\"OSInfo\",\"OSX\\u002fShlayer\",\"OSX_OCEANLOTUS.D\",\"ObliqueRAT\",\"OceanSalt\",\"Octopus\",\"Okrum\",\"Olympic Destroyer\",\"OnionDuke\",\"OopsIE\",\"Orz\",\"Out1\",\"OutSteel\",\"OwaAuth\",\"P.A.S. Webshell\",\"P2P ZeuS\",\"P8RAT\",\"PACEMAKER\",\"PHOREAL\",\"PITSTOP\",\"PLAINTEE\",\"PLEAD\",\"POORAIM\",\"POSHSPY\",\"POWERSOURCE\",\"POWERSTATS\",\"POWERTON\",\"POWRUNER\",\"PS1\",\"PULSECHECK\",\"PUNCHBUGGY\",\"PUNCHTRACK\",\"Pacu\",\"Pandora\",\"Pasam\",\"Pass-The-Hash Toolkit\",\"Pay2Key\",\"PcShare\",\"Pcexter\",\"Peirates\",\"Penquin\",\"Peppy\",\"Pillowmint\",\"PinchDuke\",\"Ping\",\"PingPull\",\"PipeMon\",\"Pisloader\",\"PlugX\",\"PoetRAT\",\"PoisonIvy\",\"PolyglotDuke\",\"Pony\",\"PoshC2\",\"PowGoop\",\"Power Loader\",\"PowerDuke\",\"PowerLess\",\"PowerPunch\",\"PowerShower\",\"PowerSploit\",\"PowerStallion\",\"Prestige\",\"Prikormka\",\"ProLock\",\"Proton\",\"Proxysvc\",\"PsExec\",\"Psylo\",\"Pteranodon\",\"Pupy\",\"PyDCrypt\",\"Pysa\",\"QUADAGENT\",\"QUIETCANARY\",\"QUIETEXIT\",\"QakBot\",\"QuasarRAT\",\"QuietSieve\",\"RAPIDPULSE\",\"RARSTONE\",\"RATANKBA\",\"RCSession\",\"RDAT\",\"RDFSNIFFER\",\"REvil\",\"RGDoor\",\"RIPTIDE\",\"ROADTools\",\"ROCKBOOT\",\"ROKRAT\",\"RTM\",\"Ragnar Locker\",\"Raindrop\",\"RainyDay\",\"Ramsay\",\"RawDisk\",\"RawPOS\",\"Rclone\",\"Reaver\",\"RedLeaves\",\"Reg\",\"RegDuke\",\"Regin\",\"Remcos\",\"Remexi\",\"RemoteCMD\",\"RemoteUtilities\",\"Remsec\",\"Responder\",\"Revenge RAT\",\"Rifdoor\",\"Rising Sun\",\"RobbinHood\",\"RogueRobin\",\"RotaJakiro\",\"Rover\",\"Royal\",\"Rubeus\",\"Ruler\",\"RunningRAT\",\"Ryuk\",\"S-Type\",\"SDBbot\",\"SDelete\",\"SEASHARPEE\",\"SHARPSTATS\",\"SHIPSHAPE\",\"SHOTPUT\",\"SHUTTERSPEED\",\"SILENTTRINITY\",\"SLIGHTPULSE\",\"SLOTHFULMEDIA\",\"SLOWDRIFT\",\"SLOWPULSE\",\"SMOKEDHAM\",\"SNUGRIDE\",\"SOUNDBITE\",\"SPACESHIP\",\"SQLRat\",\"STARWHALE\",\"STEADYPULSE\",\"SUGARDUMP\",\"SUGARUSH\",\"SUNBURST\",\"SUNSPOT\",\"SUPERNOVA\",\"SVCReady\",\"SYNful Knock\",\"SYSCON\",\"Saint Bot\",\"Sakula\",\"SamSam\",\"Samurai\",\"Sardonic\",\"SeaDuke\",\"Seasalt\",\"ServHelper\",\"Seth-Locker\",\"ShadowPad\",\"Shamoon\",\"Shark\",\"SharpDisco\",\"SharpStage\",\"ShimRat\",\"ShimRatReporter\",\"Sibot\",\"SideTwist\",\"Siloscape\",\"Skeleton Key\",\"Skidmap\",\"Sliver\",\"Small Sieve\",\"Smoke Loader\",\"Snip3\",\"SocGholish\",\"Socksbot\",\"SodaMaster\",\"SombRAT\",\"SoreFang\",\"Spark\",\"SpeakUp\",\"SpicyOmelette\",\"Squirrelwaffle\",\"SslMM\",\"Starloader\",\"StoneDrill\",\"StreamEx\",\"StrifeWater\",\"StrongPity\",\"Stuxnet\",\"Sykipot\",\"SynAck\",\"Sys10\",\"SysUpdate\",\"Systeminfo\",\"T9000\",\"TAINTEDSCRIBE\",\"TDTESS\",\"TEARDROP\",\"TEXTMATE\",\"TINYTYPHON\",\"TSCookie\",\"TURNEDUP\",\"TYPEFRAME\",\"Taidoor\",\"TajMahal\",\"Tarrask\",\"Tasklist\",\"ThiefQuest\",\"ThreatNeedle\",\"TinyTurla\",\"TinyZBot\",\"Tomiris\",\"Tor\",\"Torisma\",\"TrailBlazer\",\"TrickBot\",\"Trojan.Karagany\",\"Trojan.Mebromi\",\"Truvasys\",\"Turian\",\"UACMe\",\"UBoatRAT\",\"UPPERCUT\",\"USBStealer\",\"USBferry\",\"Umbreon\",\"Unknown Logger\",\"Uroburos\",\"Ursnif\",\"VBShower\",\"VERMIN\",\"Valak\",\"VaporRage\",\"Vasport\",\"Volgmer\",\"WARPWIRE\",\"WEBC2\",\"WINDSHIELD\",\"WINERACK\",\"WIREFIRE\",\"WannaCry\",\"WarzoneRAT\",\"WastedLocker\",\"Waterbear\",\"WellMail\",\"WellMess\",\"Wevtutil\",\"WhisperGate\",\"Wiarp\",\"WinMM\",\"WindTail\",\"Windows Credential Editor\",\"Winexe\",\"Wingbird\",\"Winnti for Linux\",\"Winnti for Windows\",\"Wiper\",\"Woody RAT\",\"XAgentOSX\",\"XCSSET\",\"XTunnel\",\"Xbash\",\"YAHOYAH\",\"ZIPLINE\",\"ZLib\",\"Zebrocy\",\"ZeroT\",\"Zeroaccess\",\"Zeus Panda\",\"Zox\",\"ZxShell\",\"ZxxZ\",\"adbupd\",\"at\",\"build_downer\",\"ccf32\",\"certutil\",\"cmd\",\"down_new\",\"dsquery\",\"esentutl\",\"ftp\",\"gh0st RAT\",\"gsecdump\",\"hcdLoader\",\"httpclient\",\"iKitten\",\"ifconfig\",\"ipconfig\",\"jRAT\",\"macOS.OSAMiner\",\"meek\",\"metaMain\",\"nbtstat\",\"netsh\",\"netstat\",\"ngrok\",\"njRAT\",\"pngdowner\",\"pwdump\",\"route\",\"schtasks\",\"spwebmember\",\"sqlmap\",\"xCaon\",\"xCmd\",\"yty\",\"zwShell\"],\"xaxis\":\"x\",\"y\":[4,6,24,7,23,7,1,4,12,5,37,6,10,17,20,20,32,23,2,36,13,35,10,9,4,17,11,15,16,14,8,10,35,24,7,14,10,4,7,21,19,7,5,2,1,3,6,14,15,16,16,15,12,26,24,51,10,34,18,23,20,25,6,12,9,16,12,7,4,33,39,23,2,4,6,2,19,18,3,10,12,1,7,8,15,4,10,18,25,18,22,9,15,12,28,5,24,3,3,10,5,13,34,17,3,72,8,9,22,19,13,3,16,14,19,6,14,20,8,7,29,5,15,7,23,21,8,4,13,9,6,13,9,14,18,50,28,34,16,3,20,18,19,7,5,9,11,14,15,7,5,15,9,12,23,21,19,16,6,9,3,14,20,5,25,19,15,42,72,14,21,14,5,12,8,3,12,8,18,8,6,1,7,4,4,21,10,9,1,23,6,24,9,22,1,21,3,5,7,37,12,4,1,8,17,33,6,6,14,3,18,15,18,42,19,18,17,24,12,13,6,7,3,5,11,2,6,2,3,20,3,12,3,2,13,1,21,25,16,15,9,10,11,27,20,19,12,6,4,19,19,16,9,19,1,10,72,2,8,15,7,20,20,7,4,12,4,10,8,20,20,3,39,13,10,30,10,14,21,18,9,15,17,7,27,15,7,22,5,7,3,10,22,9,6,13,11,22,6,5,7,28,16,18,1,24,2,10,8,9,25,9,41,35,3,22,10,23,8,16,12,46,20,16,20,1,17,1,9,5,18,16,26,4,7,7,14,15,15,9,17,13,5,5,11,45,5,8,15,4,12,13,6,9,15,11,4,15,4,2,18,3,21,26,3,14,6,10,15,28,14,8,18,33,14,5,19,13,5,14,8,15,1,5,6,3,5,9,15,6,8,6,27,6,20,5,4,17,3,21,13,7,1,8,20,4,12,17,7,14,7,1,15,23,9,27,35,14,10,15,32,8,1,15,9,4,14,28,5,9,20,7,15,14,5,5,17,41,11,16,17,9,5,71,24,9,4,4,15,22,20,3,33,7,2,6,1,30,37,13,7,25,39,3,5,6,13,17,3,9,11,16,16,3,4,29,2,18,9,19,6,18,17,10,13,5,4,9,22,20,24,2,4,7,3,6,3,47,9,23,3,6,21,4,5,6,8,14,5,13,5,35,11,5,24,3,5,36,11,5,18,24,15,10,14,3,20,24,17,11,11,21,16,18,15,14,1,16,15,13,14,20,18,5,11,24,13,10,15,11,21,9,2,15,9,15,26,44,11,14,6,30,1,13,16,5,6,2,4,13,6,15,20,24,7,3,18,13,14,8,8,2,13,5,55,22,1,2,18,1,8,10,14,11,5,8,36,35,5,17,34,4,4,19,5,3,5,7,7,16,30,20,14,9,15,3,28,4,6,14,1,1,9,8,21,1,29,10,29,8,16,6,9,11,30,13,2,23,9,34,14,3,1,8,12,4,6,10,4,6,3,24,2,2,3,7,1,1,28,10,1,28,2,4,1,5,31,3,1,1,1,1,1,11,1,14,11],\"yaxis\":\"y\",\"type\":\"bar\"}],                        {\"template\":{\"data\":{\"histogram2dcontour\":[{\"type\":\"histogram2dcontour\",\"colorbar\":{\"outlinewidth\":0,\"ticks\":\"\"},\"colorscale\":[[0.0,\"#0d0887\"],[0.1111111111111111,\"#46039f\"],[0.2222222222222222,\"#7201a8\"],[0.3333333333333333,\"#9c179e\"],[0.4444444444444444,\"#bd3786\"],[0.5555555555555556,\"#d8576b\"],[0.6666666666666666,\"#ed7953\"],[0.7777777777777778,\"#fb9f3a\"],[0.8888888888888888,\"#fdca26\"],[1.0,\"#f0f921\"]]}],\"choropleth\":[{\"type\":\"choropleth\",\"colorbar\":{\"outlinewidth\":0,\"ticks\":\"\"}}],\"histogram2d\":[{\"type\":\"histogram2d\",\"colorbar\":{\"outlinewidth\":0,\"ticks\":\"\"},\"colorscale\":[[0.0,\"#0d0887\"],[0.1111111111111111,\"#46039f\"],[0.2222222222222222,\"#7201a8\"],[0.3333333333333333,\"#9c179e\"],[0.4444444444444444,\"#bd3786\"],[0.5555555555555556,\"#d8576b\"],[0.6666666666666666,\"#ed7953\"],[0.7777777777777778,\"#fb9f3a\"],[0.8888888888888888,\"#fdca26\"],[1.0,\"#f0f921\"]]}],\"heatmap\":[{\"type\":\"heatmap\",\"colorbar\":{\"outlinewidth\":0,\"ticks\":\"\"},\"colorscale\":[[0.0,\"#0d0887\"],[0.1111111111111111,\"#46039f\"],[0.2222222222222222,\"#7201a8\"],[0.3333333333333333,\"#9c179e\"],[0.4444444444444444,\"#bd3786\"],[0.5555555555555556,\"#d8576b\"],[0.6666666666666666,\"#ed7953\"],[0.7777777777777778,\"#fb9f3a\"],[0.8888888888888888,\"#fdca26\"],[1.0,\"#f0f921\"]]}],\"heatmapgl\":[{\"type\":\"heatmapgl\",\"colorbar\":{\"outlinewidth\":0,\"ticks\":\"\"},\"colorscale\":[[0.0,\"#0d0887\"],[0.1111111111111111,\"#46039f\"],[0.2222222222222222,\"#7201a8\"],[0.3333333333333333,\"#9c179e\"],[0.4444444444444444,\"#bd3786\"],[0.5555555555555556,\"#d8576b\"],[0.6666666666666666,\"#ed7953\"],[0.7777777777777778,\"#fb9f3a\"],[0.8888888888888888,\"#fdca26\"],[1.0,\"#f0f921\"]]}],\"contourcarpet\":[{\"type\":\"contourcarpet\",\"colorbar\":{\"outlinewidth\":0,\"ticks\":\"\"}}],\"contour\":[{\"type\":\"contour\",\"colorbar\":{\"outlinewidth\":0,\"ticks\":\"\"},\"colorscale\":[[0.0,\"#0d0887\"],[0.1111111111111111,\"#46039f\"],[0.2222222222222222,\"#7201a8\"],[0.3333333333333333,\"#9c179e\"],[0.4444444444444444,\"#bd3786\"],[0.5555555555555556,\"#d8576b\"],[0.6666666666666666,\"#ed7953\"],[0.7777777777777778,\"#fb9f3a\"],[0.8888888888888888,\"#fdca26\"],[1.0,\"#f0f921\"]]}],\"surface\":[{\"type\":\"surface\",\"colorbar\":{\"outlinewidth\":0,\"ticks\":\"\"},\"colorscale\":[[0.0,\"#0d0887\"],[0.1111111111111111,\"#46039f\"],[0.2222222222222222,\"#7201a8\"],[0.3333333333333333,\"#9c179e\"],[0.4444444444444444,\"#bd3786\"],[0.5555555555555556,\"#d8576b\"],[0.6666666666666666,\"#ed7953\"],[0.7777777777777778,\"#fb9f3a\"],[0.8888888888888888,\"#fdca26\"],[1.0,\"#f0f921\"]]}],\"mesh3d\":[{\"type\":\"mesh3d\",\"colorbar\":{\"outlinewidth\":0,\"ticks\":\"\"}}],\"scatter\":[{\"fillpattern\":{\"fillmode\":\"overlay\",\"size\":10,\"solidity\":0.2},\"type\":\"scatter\"}],\"parcoords\":[{\"type\":\"parcoords\",\"line\":{\"colorbar\":{\"outlinewidth\":0,\"ticks\":\"\"}}}],\"scatterpolargl\":[{\"type\":\"scatterpolargl\",\"marker\":{\"colorbar\":{\"outlinewidth\":0,\"ticks\":\"\"}}}],\"bar\":[{\"error_x\":{\"color\":\"#2a3f5f\"},\"error_y\":{\"color\":\"#2a3f5f\"},\"marker\":{\"line\":{\"color\":\"#E5ECF6\",\"width\":0.5},\"pattern\":{\"fillmode\":\"overlay\",\"size\":10,\"solidity\":0.2}},\"type\":\"bar\"}],\"scattergeo\":[{\"type\":\"scattergeo\",\"marker\":{\"colorbar\":{\"outlinewidth\":0,\"ticks\":\"\"}}}],\"scatterpolar\":[{\"type\":\"scatterpolar\",\"marker\":{\"colorbar\":{\"outlinewidth\":0,\"ticks\":\"\"}}}],\"histogram\":[{\"marker\":{\"pattern\":{\"fillmode\":\"overlay\",\"size\":10,\"solidity\":0.2}},\"type\":\"histogram\"}],\"scattergl\":[{\"type\":\"scattergl\",\"marker\":{\"colorbar\":{\"outlinewidth\":0,\"ticks\":\"\"}}}],\"scatter3d\":[{\"type\":\"scatter3d\",\"line\":{\"colorbar\":{\"outlinewidth\":0,\"ticks\":\"\"}},\"marker\":{\"colorbar\":{\"outlinewidth\":0,\"ticks\":\"\"}}}],\"scattermapbox\":[{\"type\":\"scattermapbox\",\"marker\":{\"colorbar\":{\"outlinewidth\":0,\"ticks\":\"\"}}}],\"scatterternary\":[{\"type\":\"scatterternary\",\"marker\":{\"colorbar\":{\"outlinewidth\":0,\"ticks\":\"\"}}}],\"scattercarpet\":[{\"type\":\"scattercarpet\",\"marker\":{\"colorbar\":{\"outlinewidth\":0,\"ticks\":\"\"}}}],\"carpet\":[{\"aaxis\":{\"endlinecolor\":\"#2a3f5f\",\"gridcolor\":\"white\",\"linecolor\":\"white\",\"minorgridcolor\":\"white\",\"startlinecolor\":\"#2a3f5f\"},\"baxis\":{\"endlinecolor\":\"#2a3f5f\",\"gridcolor\":\"white\",\"linecolor\":\"white\",\"minorgridcolor\":\"white\",\"startlinecolor\":\"#2a3f5f\"},\"type\":\"carpet\"}],\"table\":[{\"cells\":{\"fill\":{\"color\":\"#EBF0F8\"},\"line\":{\"color\":\"white\"}},\"header\":{\"fill\":{\"color\":\"#C8D4E3\"},\"line\":{\"color\":\"white\"}},\"type\":\"table\"}],\"barpolar\":[{\"marker\":{\"line\":{\"color\":\"#E5ECF6\",\"width\":0.5},\"pattern\":{\"fillmode\":\"overlay\",\"size\":10,\"solidity\":0.2}},\"type\":\"barpolar\"}],\"pie\":[{\"automargin\":true,\"type\":\"pie\"}]},\"layout\":{\"autotypenumbers\":\"strict\",\"colorway\":[\"#636efa\",\"#EF553B\",\"#00cc96\",\"#ab63fa\",\"#FFA15A\",\"#19d3f3\",\"#FF6692\",\"#B6E880\",\"#FF97FF\",\"#FECB52\"],\"font\":{\"color\":\"#2a3f5f\"},\"hovermode\":\"closest\",\"hoverlabel\":{\"align\":\"left\"},\"paper_bgcolor\":\"white\",\"plot_bgcolor\":\"#E5ECF6\",\"polar\":{\"bgcolor\":\"#E5ECF6\",\"angularaxis\":{\"gridcolor\":\"white\",\"linecolor\":\"white\",\"ticks\":\"\"},\"radialaxis\":{\"gridcolor\":\"white\",\"linecolor\":\"white\",\"ticks\":\"\"}},\"ternary\":{\"bgcolor\":\"#E5ECF6\",\"aaxis\":{\"gridcolor\":\"white\",\"linecolor\":\"white\",\"ticks\":\"\"},\"baxis\":{\"gridcolor\":\"white\",\"linecolor\":\"white\",\"ticks\":\"\"},\"caxis\":{\"gridcolor\":\"white\",\"linecolor\":\"white\",\"ticks\":\"\"}},\"coloraxis\":{\"colorbar\":{\"outlinewidth\":0,\"ticks\":\"\"}},\"colorscale\":{\"sequential\":[[0.0,\"#0d0887\"],[0.1111111111111111,\"#46039f\"],[0.2222222222222222,\"#7201a8\"],[0.3333333333333333,\"#9c179e\"],[0.4444444444444444,\"#bd3786\"],[0.5555555555555556,\"#d8576b\"],[0.6666666666666666,\"#ed7953\"],[0.7777777777777778,\"#fb9f3a\"],[0.8888888888888888,\"#fdca26\"],[1.0,\"#f0f921\"]],\"sequentialminus\":[[0.0,\"#0d0887\"],[0.1111111111111111,\"#46039f\"],[0.2222222222222222,\"#7201a8\"],[0.3333333333333333,\"#9c179e\"],[0.4444444444444444,\"#bd3786\"],[0.5555555555555556,\"#d8576b\"],[0.6666666666666666,\"#ed7953\"],[0.7777777777777778,\"#fb9f3a\"],[0.8888888888888888,\"#fdca26\"],[1.0,\"#f0f921\"]],\"diverging\":[[0,\"#8e0152\"],[0.1,\"#c51b7d\"],[0.2,\"#de77ae\"],[0.3,\"#f1b6da\"],[0.4,\"#fde0ef\"],[0.5,\"#f7f7f7\"],[0.6,\"#e6f5d0\"],[0.7,\"#b8e186\"],[0.8,\"#7fbc41\"],[0.9,\"#4d9221\"],[1,\"#276419\"]]},\"xaxis\":{\"gridcolor\":\"white\",\"linecolor\":\"white\",\"ticks\":\"\",\"title\":{\"standoff\":15},\"zerolinecolor\":\"white\",\"automargin\":true,\"zerolinewidth\":2},\"yaxis\":{\"gridcolor\":\"white\",\"linecolor\":\"white\",\"ticks\":\"\",\"title\":{\"standoff\":15},\"zerolinecolor\":\"white\",\"automargin\":true,\"zerolinewidth\":2},\"scene\":{\"xaxis\":{\"backgroundcolor\":\"#E5ECF6\",\"gridcolor\":\"white\",\"linecolor\":\"white\",\"showbackground\":true,\"ticks\":\"\",\"zerolinecolor\":\"white\",\"gridwidth\":2},\"yaxis\":{\"backgroundcolor\":\"#E5ECF6\",\"gridcolor\":\"white\",\"linecolor\":\"white\",\"showbackground\":true,\"ticks\":\"\",\"zerolinecolor\":\"white\",\"gridwidth\":2},\"zaxis\":{\"backgroundcolor\":\"#E5ECF6\",\"gridcolor\":\"white\",\"linecolor\":\"white\",\"showbackground\":true,\"ticks\":\"\",\"zerolinecolor\":\"white\",\"gridwidth\":2}},\"shapedefaults\":{\"line\":{\"color\":\"#2a3f5f\"}},\"annotationdefaults\":{\"arrowcolor\":\"#2a3f5f\",\"arrowhead\":0,\"arrowwidth\":1},\"geo\":{\"bgcolor\":\"white\",\"landcolor\":\"#E5ECF6\",\"subunitcolor\":\"white\",\"showland\":true,\"showlakes\":true,\"lakecolor\":\"white\"},\"title\":{\"x\":0.05},\"mapbox\":{\"style\":\"light\"}}},\"xaxis\":{\"anchor\":\"y\",\"domain\":[0.0,1.0],\"title\":{\"text\":\"Software\"}},\"yaxis\":{\"anchor\":\"x\",\"domain\":[0.0,1.0],\"title\":{\"text\":\"Technique Count\"}},\"legend\":{\"tracegroupgap\":0},\"title\":{\"text\":\"Techniques used by each Software\"},\"barmode\":\"relative\"},                        {\"responsive\": true}                    ).then(function(){\n",
       "                            \n",
       "var gd = document.getElementById('ec7347c0-d9a2-4d06-8b82-4faea084baee');\n",
       "var x = new MutationObserver(function (mutations, observer) {{\n",
       "        var display = window.getComputedStyle(gd).display;\n",
       "        if (!display || display === 'none') {{\n",
       "            console.log([gd, 'removed!']);\n",
       "            Plotly.purge(gd);\n",
       "            observer.disconnect();\n",
       "        }}\n",
       "}});\n",
       "\n",
       "// Listen for the removal of the full notebook cells\n",
       "var notebookContainer = gd.closest('#notebook-container');\n",
       "if (notebookContainer) {{\n",
       "    x.observe(notebookContainer, {childList: true});\n",
       "}}\n",
       "\n",
       "// Listen for the clearing of the current output cell\n",
       "var outputEl = gd.closest('.output');\n",
       "if (outputEl) {{\n",
       "    x.observe(outputEl, {childList: true});\n",
       "}}\n",
       "\n",
       "                        })                };                });            </script>        </div>"
      ]
     },
     "metadata": {},
     "output_type": "display_data"
    }
   ],
   "source": [
    "# Assuming the columns are 'name_software' for software names and 'name_technique' for technique names\n",
    "software_count = techniques_software_df.groupby('name_software')['name_technique'].count().reset_index()\n",
    "\n",
    "# Rename columns for better understanding\n",
    "software_count.columns = ['Software', 'Technique Count']\n",
    "\n",
    "# Step 4: Create a bar chart using Plotly\n",
    "fig = px.bar(software_count, x='Software', y='Technique Count', title='Techniques used by each Software')\n",
    "\n",
    "# Step 5: Display the chart\n",
    "fig.show()\n",
    "\n"
   ]
  },
  {
   "cell_type": "code",
   "execution_count": null,
   "id": "cf3f448a-5294-4ba7-8f73-f89861eb8626",
   "metadata": {},
   "outputs": [],
   "source": []
  }
 ],
 "metadata": {
  "kernelspec": {
   "display_name": "Python 3 (ipykernel)",
   "language": "python",
   "name": "python3"
  },
  "language_info": {
   "codemirror_mode": {
    "name": "ipython",
    "version": 3
   },
   "file_extension": ".py",
   "mimetype": "text/x-python",
   "name": "python",
   "nbconvert_exporter": "python",
   "pygments_lexer": "ipython3",
   "version": "3.12.5"
  }
 },
 "nbformat": 4,
 "nbformat_minor": 5
}
